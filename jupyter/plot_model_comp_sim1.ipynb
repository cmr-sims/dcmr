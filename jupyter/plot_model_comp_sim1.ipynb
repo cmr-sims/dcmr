{
 "cells": [
  {
   "cell_type": "code",
   "execution_count": 1,
   "metadata": {},
   "outputs": [],
   "source": [
    "import os\n",
    "import numpy as np\n",
    "import pandas as pd\n",
    "import matplotlib\n",
    "import matplotlib.pyplot as plt\n",
    "import importlib\n",
    "from psifr import fr\n",
    "from mindstorm import statplot\n",
    "from cfr import framework\n",
    "from cfr import figures\n",
    "\n",
    "model_dir = '/Users/morton/Dropbox/work/cmr_cfr/cfr'\n",
    "data_file = os.path.join(model_dir, 'cfr_mixed_eeg.csv')\n",
    "patterns_file = os.path.join(model_dir, 'cfr_patterns.hdf5')\n",
    "fit_dir = os.path.join(model_dir, 'fits', 'v5')\n",
    "fig_dir = '/Users/morton/Dropbox/work/cmr_cfr/cfr/figs/sim1'\n",
    "os.makedirs(fig_dir, exist_ok=True)\n",
    "\n",
    "plt.style.use('/Users/morton/.matplotlib/matplotlibrc')"
   ]
  },
  {
   "cell_type": "markdown",
   "metadata": {},
   "source": [
    "## Load model fits"
   ]
  },
  {
   "cell_type": "code",
   "execution_count": 2,
   "metadata": {},
   "outputs": [],
   "source": [
    "components = ['loc', 'cat', 'use', 'loc-cat', 'loc-use', 'cat-use', 'loc-cat-use']\n",
    "models = [f'cmrs_fcf-{comp}' for comp in components]\n",
    "model_names = ['I', 'C', 'D', 'IC', 'ID', 'CD', 'ICD']\n",
    "res = framework.read_model_fits(fit_dir, models, model_names)"
   ]
  },
  {
   "cell_type": "markdown",
   "metadata": {},
   "source": [
    "## Calculate AIC weights"
   ]
  },
  {
   "cell_type": "code",
   "execution_count": 3,
   "metadata": {},
   "outputs": [
    {
     "data": {
      "text/html": [
       "<div>\n",
       "<style scoped>\n",
       "    .dataframe tbody tr th:only-of-type {\n",
       "        vertical-align: middle;\n",
       "    }\n",
       "\n",
       "    .dataframe tbody tr th {\n",
       "        vertical-align: top;\n",
       "    }\n",
       "\n",
       "    .dataframe thead th {\n",
       "        text-align: right;\n",
       "    }\n",
       "</style>\n",
       "<table border=\"1\" class=\"dataframe\">\n",
       "  <thead>\n",
       "    <tr style=\"text-align: right;\">\n",
       "      <th>model</th>\n",
       "      <th>C</th>\n",
       "      <th>D</th>\n",
       "      <th>I</th>\n",
       "    </tr>\n",
       "  </thead>\n",
       "  <tbody>\n",
       "    <tr>\n",
       "      <th>mean</th>\n",
       "      <td>0.2097</td>\n",
       "      <td>0.0</td>\n",
       "      <td>0.7903</td>\n",
       "    </tr>\n",
       "    <tr>\n",
       "      <th>sem</th>\n",
       "      <td>0.0763</td>\n",
       "      <td>0.0</td>\n",
       "      <td>0.0763</td>\n",
       "    </tr>\n",
       "    <tr>\n",
       "      <th>min</th>\n",
       "      <td>0.0000</td>\n",
       "      <td>0.0</td>\n",
       "      <td>0.0000</td>\n",
       "    </tr>\n",
       "    <tr>\n",
       "      <th>max</th>\n",
       "      <td>1.0000</td>\n",
       "      <td>0.0</td>\n",
       "      <td>1.0000</td>\n",
       "    </tr>\n",
       "  </tbody>\n",
       "</table>\n",
       "</div>"
      ],
      "text/plain": [
       "model       C    D       I\n",
       "mean   0.2097  0.0  0.7903\n",
       "sem    0.0763  0.0  0.0763\n",
       "min    0.0000  0.0  0.0000\n",
       "max    1.0000  0.0  1.0000"
      ]
     },
     "execution_count": 3,
     "metadata": {},
     "output_type": "execute_result"
    }
   ],
   "source": [
    "temp = res.loc[['I', 'C', 'D']].copy()\n",
    "temp = framework.model_comp_weights(temp, stat='aic')\n",
    "temp.groupby(['model'])['waic'].agg(['mean', 'sem', 'min', 'max']).T.round(4)"
   ]
  },
  {
   "cell_type": "code",
   "execution_count": 4,
   "metadata": {},
   "outputs": [
    {
     "data": {
      "text/html": [
       "<div>\n",
       "<style scoped>\n",
       "    .dataframe tbody tr th:only-of-type {\n",
       "        vertical-align: middle;\n",
       "    }\n",
       "\n",
       "    .dataframe tbody tr th {\n",
       "        vertical-align: top;\n",
       "    }\n",
       "\n",
       "    .dataframe thead th {\n",
       "        text-align: right;\n",
       "    }\n",
       "</style>\n",
       "<table border=\"1\" class=\"dataframe\">\n",
       "  <thead>\n",
       "    <tr style=\"text-align: right;\">\n",
       "      <th>model</th>\n",
       "      <th>CD</th>\n",
       "      <th>IC</th>\n",
       "      <th>ID</th>\n",
       "    </tr>\n",
       "  </thead>\n",
       "  <tbody>\n",
       "    <tr>\n",
       "      <th>mean</th>\n",
       "      <td>0.0</td>\n",
       "      <td>0.7661</td>\n",
       "      <td>0.2339</td>\n",
       "    </tr>\n",
       "    <tr>\n",
       "      <th>sem</th>\n",
       "      <td>0.0</td>\n",
       "      <td>0.0753</td>\n",
       "      <td>0.0753</td>\n",
       "    </tr>\n",
       "    <tr>\n",
       "      <th>min</th>\n",
       "      <td>0.0</td>\n",
       "      <td>0.0000</td>\n",
       "      <td>0.0000</td>\n",
       "    </tr>\n",
       "    <tr>\n",
       "      <th>max</th>\n",
       "      <td>0.0</td>\n",
       "      <td>1.0000</td>\n",
       "      <td>1.0000</td>\n",
       "    </tr>\n",
       "  </tbody>\n",
       "</table>\n",
       "</div>"
      ],
      "text/plain": [
       "model   CD      IC      ID\n",
       "mean   0.0  0.7661  0.2339\n",
       "sem    0.0  0.0753  0.0753\n",
       "min    0.0  0.0000  0.0000\n",
       "max    0.0  1.0000  1.0000"
      ]
     },
     "execution_count": 4,
     "metadata": {},
     "output_type": "execute_result"
    }
   ],
   "source": [
    "temp = res.loc[['IC', 'ID', 'CD']].copy()\n",
    "temp = framework.model_comp_weights(temp, stat='aic')\n",
    "temp.groupby(['model'])['waic'].agg(['mean', 'sem', 'min', 'max']).T.round(4)"
   ]
  },
  {
   "cell_type": "code",
   "execution_count": 5,
   "metadata": {},
   "outputs": [],
   "source": [
    "res = framework.model_comp_weights(res, stat='aic')"
   ]
  },
  {
   "cell_type": "code",
   "execution_count": 6,
   "metadata": {},
   "outputs": [
    {
     "data": {
      "image/png": "[encoded data removed]",
      "text/plain": [
       "<Figure size 432x288 with 1 Axes>"
      ]
     },
     "metadata": {
      "needs_background": "light"
     },
     "output_type": "display_data"
    }
   ],
   "source": [
    "fig, ax = plt.subplots(figsize=(6, 4))\n",
    "g = figures.plot_swarm_bar(\n",
    "    data=res.reset_index(), x='model', y='waic', point_kind='strip', ax=ax\n",
    ")\n",
    "ax.set(ylabel='AIC weight');\n",
    "fig.savefig(os.path.join(fig_dir, 'waic.pdf'));"
   ]
  },
  {
   "cell_type": "code",
   "execution_count": 7,
   "metadata": {},
   "outputs": [
    {
     "data": {
      "text/plain": [
       "7"
      ]
     },
     "execution_count": 7,
     "metadata": {},
     "output_type": "execute_result"
    }
   ],
   "source": [
    "np.count_nonzero(res.loc['IC', 'waic'] > res.loc['ICD', 'waic'])"
   ]
  },
  {
   "cell_type": "code",
   "execution_count": 8,
   "metadata": {},
   "outputs": [
    {
     "data": {
      "text/plain": [
       "3"
      ]
     },
     "execution_count": 8,
     "metadata": {},
     "output_type": "execute_result"
    }
   ],
   "source": [
    "np.count_nonzero(res.loc['ID', 'waic'] > res.loc['ICD', 'waic'])"
   ]
  },
  {
   "cell_type": "markdown",
   "metadata": {},
   "source": [
    "## Context component weights"
   ]
  },
  {
   "cell_type": "code",
   "execution_count": 19,
   "metadata": {},
   "outputs": [],
   "source": [
    "param = res.loc['ICD', ['wr_loc', 'wr_cat', 'wr_use']]\n",
    "param.rename(columns={'wr_loc':'w_I', 'wr_cat':'w_C', 'wr_use':'w_D'}, inplace=True)\n",
    "df = pd.melt(\n",
    "    param.reset_index(), id_vars='subject', value_name='Weight', var_name='Component'\n",
    ")"
   ]
  },
  {
   "cell_type": "code",
   "execution_count": 20,
   "metadata": {},
   "outputs": [
    {
     "data": {
      "image/png": "[encoded data removed]",
      "text/plain": [
       "<Figure size 288x288 with 1 Axes>"
      ]
     },
     "metadata": {
      "needs_background": "light"
     },
     "output_type": "display_data"
    }
   ],
   "source": [
    "plt.rcParams.update({\"text.usetex\": False})\n",
    "fig, ax = plt.subplots(figsize=(4, 4))\n",
    "g = statplot.plot_swarm_bar(\n",
    "    data=df.reset_index(),\n",
    "    x='Component',\n",
    "    y='Weight',\n",
    "    point_kind='strip',\n",
    "    point_kws={'clip_on': False},\n",
    "    ax=ax,\n",
    ")\n",
    "ax.set(ylim=(0, 1), ylabel='Weight');\n",
    "fig.savefig(os.path.join(fig_dir, 'weights.pdf'))"
   ]
  },
  {
   "cell_type": "markdown",
   "metadata": {},
   "source": [
    "## Create a parameter table"
   ]
  },
  {
   "cell_type": "code",
   "execution_count": 6,
   "metadata": {},
   "outputs": [
    {
     "data": {
      "text/html": [
       "<div>\n",
       "<style scoped>\n",
       "    .dataframe tbody tr th:only-of-type {\n",
       "        vertical-align: middle;\n",
       "    }\n",
       "\n",
       "    .dataframe tbody tr th {\n",
       "        vertical-align: top;\n",
       "    }\n",
       "\n",
       "    .dataframe thead th {\n",
       "        text-align: right;\n",
       "    }\n",
       "</style>\n",
       "<table border=\"1\" class=\"dataframe\">\n",
       "  <thead>\n",
       "    <tr style=\"text-align: right;\">\n",
       "      <th></th>\n",
       "      <th>I</th>\n",
       "      <th>C</th>\n",
       "      <th>D</th>\n",
       "      <th>IC</th>\n",
       "      <th>ID</th>\n",
       "      <th>CD</th>\n",
       "      <th>ICD</th>\n",
       "    </tr>\n",
       "  </thead>\n",
       "  <tbody>\n",
       "    <tr>\n",
       "      <th>L_{FC}</th>\n",
       "      <td>0.13 (0.01)</td>\n",
       "      <td>0.75 (0.01)</td>\n",
       "      <td>0.60 (0.03)</td>\n",
       "      <td>0.10 (0.01)</td>\n",
       "      <td>0.11 (0.01)</td>\n",
       "      <td>0.73 (0.01)</td>\n",
       "      <td>0.10 (0.01)</td>\n",
       "    </tr>\n",
       "    <tr>\n",
       "      <th>L_{CF}</th>\n",
       "      <td>0.11 (0.01)</td>\n",
       "      <td>0.80 (0.01)</td>\n",
       "      <td>0.69 (0.01)</td>\n",
       "      <td>0.09 (0.01)</td>\n",
       "      <td>0.10 (0.01)</td>\n",
       "      <td>0.75 (0.01)</td>\n",
       "      <td>0.09 (0.01)</td>\n",
       "    </tr>\n",
       "    <tr>\n",
       "      <th>\\phi_s</th>\n",
       "      <td>0.27 (0.07)</td>\n",
       "      <td>0.08 (0.01)</td>\n",
       "      <td>0.18 (0.02)</td>\n",
       "      <td>0.04 (0.01)</td>\n",
       "      <td>0.07 (0.01)</td>\n",
       "      <td>0.05 (0.01)</td>\n",
       "      <td>0.03 (0.01)</td>\n",
       "    </tr>\n",
       "    <tr>\n",
       "      <th>\\phi_d</th>\n",
       "      <td>1.17 (0.19)</td>\n",
       "      <td>0.41 (0.03)</td>\n",
       "      <td>0.39 (0.07)</td>\n",
       "      <td>1.26 (0.24)</td>\n",
       "      <td>1.46 (0.26)</td>\n",
       "      <td>0.35 (0.02)</td>\n",
       "      <td>1.49 (0.25)</td>\n",
       "    </tr>\n",
       "    <tr>\n",
       "      <th>\\beta_{\\mathrm{enc}}</th>\n",
       "      <td>0.72 (0.02)</td>\n",
       "      <td>0.04 (0.00)</td>\n",
       "      <td>0.08 (0.02)</td>\n",
       "      <td>0.64 (0.02)</td>\n",
       "      <td>0.66 (0.02)</td>\n",
       "      <td>0.05 (0.01)</td>\n",
       "      <td>0.62 (0.02)</td>\n",
       "    </tr>\n",
       "    <tr>\n",
       "      <th>\\beta_{\\mathrm{start}}</th>\n",
       "      <td>0.67 (0.07)</td>\n",
       "      <td>0.00 (0.00)</td>\n",
       "      <td>0.03 (0.02)</td>\n",
       "      <td>0.54 (0.07)</td>\n",
       "      <td>0.66 (0.06)</td>\n",
       "      <td>0.01 (0.01)</td>\n",
       "      <td>0.54 (0.07)</td>\n",
       "    </tr>\n",
       "    <tr>\n",
       "      <th>\\beta_{\\mathrm{rec}}</th>\n",
       "      <td>0.79 (0.02)</td>\n",
       "      <td>0.96 (0.01)</td>\n",
       "      <td>0.90 (0.05)</td>\n",
       "      <td>0.86 (0.01)</td>\n",
       "      <td>0.84 (0.01)</td>\n",
       "      <td>0.94 (0.03)</td>\n",
       "      <td>0.86 (0.01)</td>\n",
       "    </tr>\n",
       "    <tr>\n",
       "      <th>\\theta_s</th>\n",
       "      <td>0.01 (0.00)</td>\n",
       "      <td>0.01 (0.00)</td>\n",
       "      <td>0.01 (0.00)</td>\n",
       "      <td>0.01 (0.00)</td>\n",
       "      <td>0.01 (0.00)</td>\n",
       "      <td>0.01 (0.00)</td>\n",
       "      <td>0.01 (0.00)</td>\n",
       "    </tr>\n",
       "    <tr>\n",
       "      <th>\\theta_r</th>\n",
       "      <td>0.31 (0.01)</td>\n",
       "      <td>0.31 (0.01)</td>\n",
       "      <td>0.31 (0.01)</td>\n",
       "      <td>0.31 (0.01)</td>\n",
       "      <td>0.31 (0.01)</td>\n",
       "      <td>0.31 (0.01)</td>\n",
       "      <td>0.31 (0.01)</td>\n",
       "    </tr>\n",
       "    <tr>\n",
       "      <th>w_1</th>\n",
       "      <td>---</td>\n",
       "      <td>---</td>\n",
       "      <td>---</td>\n",
       "      <td>0.94 (0.00)</td>\n",
       "      <td>0.83 (0.01)</td>\n",
       "      <td>0.44 (0.03)</td>\n",
       "      <td>0.96 (0.00)</td>\n",
       "    </tr>\n",
       "    <tr>\n",
       "      <th>w_2</th>\n",
       "      <td>---</td>\n",
       "      <td>---</td>\n",
       "      <td>---</td>\n",
       "      <td>---</td>\n",
       "      <td>---</td>\n",
       "      <td>---</td>\n",
       "      <td>0.09 (0.01)</td>\n",
       "    </tr>\n",
       "    <tr>\n",
       "      <th>n</th>\n",
       "      <td>389.55 (13.00)</td>\n",
       "      <td>389.55 (13.00)</td>\n",
       "      <td>389.55 (13.00)</td>\n",
       "      <td>389.55 (13.00)</td>\n",
       "      <td>389.55 (13.00)</td>\n",
       "      <td>389.55 (13.00)</td>\n",
       "      <td>389.55 (13.00)</td>\n",
       "    </tr>\n",
       "    <tr>\n",
       "      <th>k</th>\n",
       "      <td>9</td>\n",
       "      <td>9</td>\n",
       "      <td>9</td>\n",
       "      <td>10</td>\n",
       "      <td>10</td>\n",
       "      <td>10</td>\n",
       "      <td>11</td>\n",
       "    </tr>\n",
       "    <tr>\n",
       "      <th>\\mathrm{log}(L)</th>\n",
       "      <td>-944.66 (29.99)</td>\n",
       "      <td>-976.71 (25.35)</td>\n",
       "      <td>-1007.15 (28.78)</td>\n",
       "      <td>-899.71 (25.81)</td>\n",
       "      <td>-912.74 (27.93)</td>\n",
       "      <td>-968.38 (25.40)</td>\n",
       "      <td>-894.73 (25.85)</td>\n",
       "    </tr>\n",
       "    <tr>\n",
       "      <th>\\mathrm{AIC}</th>\n",
       "      <td>1907.80 (59.95)</td>\n",
       "      <td>1971.91 (50.68)</td>\n",
       "      <td>2032.79 (57.54)</td>\n",
       "      <td>1820.03 (51.59)</td>\n",
       "      <td>1846.07 (55.85)</td>\n",
       "      <td>1957.36 (50.77)</td>\n",
       "      <td>1812.18 (51.67)</td>\n",
       "    </tr>\n",
       "    <tr>\n",
       "      <th>\\mathrm{wAIC}</th>\n",
       "      <td>0.00 (0.00)</td>\n",
       "      <td>0.00 (0.00)</td>\n",
       "      <td>0.00 (0.00)</td>\n",
       "      <td>0.18 (0.05)</td>\n",
       "      <td>0.13 (0.05)</td>\n",
       "      <td>0.00 (0.00)</td>\n",
       "      <td>0.68 (0.06)</td>\n",
       "    </tr>\n",
       "  </tbody>\n",
       "</table>\n",
       "</div>"
      ],
      "text/plain": [
       "                                      I                C                 D  \\\n",
       "L_{FC}                      0.13 (0.01)      0.75 (0.01)       0.60 (0.03)   \n",
       "L_{CF}                      0.11 (0.01)      0.80 (0.01)       0.69 (0.01)   \n",
       "\\phi_s                      0.27 (0.07)      0.08 (0.01)       0.18 (0.02)   \n",
       "\\phi_d                      1.17 (0.19)      0.41 (0.03)       0.39 (0.07)   \n",
       "\\beta_{\\mathrm{enc}}        0.72 (0.02)      0.04 (0.00)       0.08 (0.02)   \n",
       "\\beta_{\\mathrm{start}}      0.67 (0.07)      0.00 (0.00)       0.03 (0.02)   \n",
       "\\beta_{\\mathrm{rec}}        0.79 (0.02)      0.96 (0.01)       0.90 (0.05)   \n",
       "\\theta_s                    0.01 (0.00)      0.01 (0.00)       0.01 (0.00)   \n",
       "\\theta_r                    0.31 (0.01)      0.31 (0.01)       0.31 (0.01)   \n",
       "w_1                                 ---              ---               ---   \n",
       "w_2                                 ---              ---               ---   \n",
       "n                        389.55 (13.00)   389.55 (13.00)    389.55 (13.00)   \n",
       "k                                     9                9                 9   \n",
       "\\mathrm{log}(L)         -944.66 (29.99)  -976.71 (25.35)  -1007.15 (28.78)   \n",
       "\\mathrm{AIC}            1907.80 (59.95)  1971.91 (50.68)   2032.79 (57.54)   \n",
       "\\mathrm{wAIC}               0.00 (0.00)      0.00 (0.00)       0.00 (0.00)   \n",
       "\n",
       "                                     IC               ID               CD  \\\n",
       "L_{FC}                      0.10 (0.01)      0.11 (0.01)      0.73 (0.01)   \n",
       "L_{CF}                      0.09 (0.01)      0.10 (0.01)      0.75 (0.01)   \n",
       "\\phi_s                      0.04 (0.01)      0.07 (0.01)      0.05 (0.01)   \n",
       "\\phi_d                      1.26 (0.24)      1.46 (0.26)      0.35 (0.02)   \n",
       "\\beta_{\\mathrm{enc}}        0.64 (0.02)      0.66 (0.02)      0.05 (0.01)   \n",
       "\\beta_{\\mathrm{start}}      0.54 (0.07)      0.66 (0.06)      0.01 (0.01)   \n",
       "\\beta_{\\mathrm{rec}}        0.86 (0.01)      0.84 (0.01)      0.94 (0.03)   \n",
       "\\theta_s                    0.01 (0.00)      0.01 (0.00)      0.01 (0.00)   \n",
       "\\theta_r                    0.31 (0.01)      0.31 (0.01)      0.31 (0.01)   \n",
       "w_1                         0.94 (0.00)      0.83 (0.01)      0.44 (0.03)   \n",
       "w_2                                 ---              ---              ---   \n",
       "n                        389.55 (13.00)   389.55 (13.00)   389.55 (13.00)   \n",
       "k                                    10               10               10   \n",
       "\\mathrm{log}(L)         -899.71 (25.81)  -912.74 (27.93)  -968.38 (25.40)   \n",
       "\\mathrm{AIC}            1820.03 (51.59)  1846.07 (55.85)  1957.36 (50.77)   \n",
       "\\mathrm{wAIC}               0.18 (0.05)      0.13 (0.05)      0.00 (0.00)   \n",
       "\n",
       "                                    ICD  \n",
       "L_{FC}                      0.10 (0.01)  \n",
       "L_{CF}                      0.09 (0.01)  \n",
       "\\phi_s                      0.03 (0.01)  \n",
       "\\phi_d                      1.49 (0.25)  \n",
       "\\beta_{\\mathrm{enc}}        0.62 (0.02)  \n",
       "\\beta_{\\mathrm{start}}      0.54 (0.07)  \n",
       "\\beta_{\\mathrm{rec}}        0.86 (0.01)  \n",
       "\\theta_s                    0.01 (0.00)  \n",
       "\\theta_r                    0.31 (0.01)  \n",
       "w_1                         0.96 (0.00)  \n",
       "w_2                         0.09 (0.01)  \n",
       "n                        389.55 (13.00)  \n",
       "k                                    11  \n",
       "\\mathrm{log}(L)         -894.73 (25.85)  \n",
       "\\mathrm{AIC}            1812.18 (51.67)  \n",
       "\\mathrm{wAIC}               0.68 (0.06)  "
      ]
     },
     "execution_count": 6,
     "metadata": {},
     "output_type": "execute_result"
    }
   ],
   "source": [
    "importlib.reload(figures)\n",
    "table = figures.create_model_table(fit_dir, models, model_names)\n",
    "table.to_latex(os.path.join(fig_dir, 'parameters1.tex'), escape=False)\n",
    "table"
   ]
  }
 ],
 "metadata": {
  "kernelspec": {
   "display_name": "cfr",
   "language": "python",
   "name": "cfr"
  },
  "language_info": {
   "codemirror_mode": {
    "name": "ipython",
    "version": 3
   },
   "file_extension": ".py",
   "mimetype": "text/x-python",
   "name": "python",
   "nbconvert_exporter": "python",
   "pygments_lexer": "ipython3",
   "version": "3.8.8"
  }
 },
 "nbformat": 4,
 "nbformat_minor": 4
}
