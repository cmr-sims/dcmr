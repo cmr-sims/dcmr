{
 "cells": [
  {
   "cell_type": "markdown",
   "metadata": {},
   "source": [
    "# Plot model fit comparisons for simulation analysis 1"
   ]
  },
  {
   "cell_type": "code",
   "execution_count": 1,
   "metadata": {},
   "outputs": [],
   "source": [
    "import os\n",
    "from pathlib import Path\n",
    "import pandas as pd\n",
    "import matplotlib.pyplot as plt\n",
    "import seaborn as sns\n",
    "from mindstorm import statplot\n",
    "from dcmr import framework\n",
    "from dcmr import figures\n",
    "from dcmr import reports\n",
    "\n",
    "fit_dir = Path(os.environ['CFR_FITS'])\n",
    "fig_dir = Path(os.environ['CFR_FIGURES']) / 'sim1'\n",
    "os.makedirs(fig_dir, exist_ok=True)\n",
    "figures.set_style()"
   ]
  },
  {
   "cell_type": "markdown",
   "metadata": {},
   "source": [
    "## Load model fits"
   ]
  },
  {
   "cell_type": "code",
   "execution_count": 2,
   "metadata": {},
   "outputs": [],
   "source": [
    "included_models = ['I', 'C', 'D', 'IC', 'ID', 'CD', 'ICD']\n",
    "models, model_names = framework.get_sim_models('cfr', 'set1', included=included_models)\n",
    "xval = framework.read_model_xvals(fit_dir, models, model_names)"
   ]
  },
  {
   "cell_type": "code",
   "execution_count": 3,
   "metadata": {},
   "outputs": [
    {
     "data": {
      "text/plain": [
       "model\n",
       "D     -34.585169\n",
       "C     -33.317897\n",
       "CD    -33.149982\n",
       "I     -32.431015\n",
       "ID    -31.356594\n",
       "IC    -30.887776\n",
       "ICD   -30.759891\n",
       "Name: logl_test_list, dtype: float64"
      ]
     },
     "execution_count": 3,
     "metadata": {},
     "output_type": "execute_result"
    }
   ],
   "source": [
    "xval.groupby('model')['logl_test_list'].mean().sort_values()"
   ]
  },
  {
   "cell_type": "code",
   "execution_count": 4,
   "metadata": {},
   "outputs": [
    {
     "name": "stderr",
     "output_type": "stream",
     "text": [
      "LINO NOT subset; don't know how to subset; dropped\n"
     ]
    }
   ],
   "source": [
    "# plot cross-validation log-likelihood with within-subject error\n",
    "g = figures.plot_xval_comp(xval, aspect=1.3, height=4)\n",
    "g.savefig(fig_dir / 'model_comp_xval.pdf')\n",
    "None"
   ]
  },
  {
   "cell_type": "code",
   "execution_count": 5,
   "metadata": {},
   "outputs": [
    {
     "data": {
      "text/html": [
       "<svg  width=\"330\" height=\"55\"><rect x=\"0\" y=\"0\" width=\"55\" height=\"55\" style=\"fill:#c4ae9f;stroke-width:2;stroke:rgb(255,255,255)\"/><rect x=\"55\" y=\"0\" width=\"55\" height=\"55\" style=\"fill:#b9919c;stroke-width:2;stroke:rgb(255,255,255)\"/><rect x=\"110\" y=\"0\" width=\"55\" height=\"55\" style=\"fill:#9f7c9d;stroke-width:2;stroke:rgb(255,255,255)\"/><rect x=\"165\" y=\"0\" width=\"55\" height=\"55\" style=\"fill:#766e94;stroke-width:2;stroke:rgb(255,255,255)\"/><rect x=\"220\" y=\"0\" width=\"55\" height=\"55\" style=\"fill:#506579;stroke-width:2;stroke:rgb(255,255,255)\"/><rect x=\"275\" y=\"0\" width=\"55\" height=\"55\" style=\"fill:#345751;stroke-width:2;stroke:rgb(255,255,255)\"/></svg>"
      ],
      "text/plain": [
       "[(0.7689335648950519, 0.6824396172757954, 0.6240123846554909),\n",
       " (0.7250187127782463, 0.5677430873950093, 0.6103083104698684),\n",
       " (0.623013021104788, 0.4855809829815538, 0.6161810850461853),\n",
       " (0.464634733019296, 0.4332443294049108, 0.5801730795425324),\n",
       " (0.31355069957273196, 0.3965359745123169, 0.4760973803152319),\n",
       " (0.2050147315167219, 0.34168808481661433, 0.31762490490999895)]"
      ]
     },
     "execution_count": 5,
     "metadata": {},
     "output_type": "execute_result"
    }
   ],
   "source": [
    "dark = sns.color_palette(\n",
    "    'ch:start=1, rot=1.5, light=.7, dark=.3, gamma=1, hue=.5'\n",
    ")\n",
    "dark"
   ]
  },
  {
   "cell_type": "code",
   "execution_count": 6,
   "metadata": {},
   "outputs": [
    {
     "data": {
      "text/html": [
       "<svg  width=\"330\" height=\"55\"><rect x=\"0\" y=\"0\" width=\"55\" height=\"55\" style=\"fill:#eccfbc;stroke-width:2;stroke:rgb(255,255,255)\"/><rect x=\"55\" y=\"0\" width=\"55\" height=\"55\" style=\"fill:#efb6c5;stroke-width:2;stroke:rgb(255,255,255)\"/><rect x=\"110\" y=\"0\" width=\"55\" height=\"55\" style=\"fill:#dca5da;stroke-width:2;stroke:rgb(255,255,255)\"/><rect x=\"165\" y=\"0\" width=\"55\" height=\"55\" style=\"fill:#afa1e3;stroke-width:2;stroke:rgb(255,255,255)\"/><rect x=\"220\" y=\"0\" width=\"55\" height=\"55\" style=\"fill:#7ba6ce;stroke-width:2;stroke:rgb(255,255,255)\"/><rect x=\"275\" y=\"0\" width=\"55\" height=\"55\" style=\"fill:#53a697;stroke-width:2;stroke:rgb(255,255,255)\"/></svg>"
      ],
      "text/plain": [
       "[(0.9248203983802259, 0.8124754066629261, 0.7365856230946308),\n",
       " (0.9370151046580671, 0.7134152392755648, 0.773930517001042),\n",
       " (0.8638347057562072, 0.6485629096614572, 0.8531332480304541),\n",
       " (0.6875944308206159, 0.6323388125763083, 0.8909732355818533),\n",
       " (0.4826946089121227, 0.6491392670198295, 0.8087166257388984),\n",
       " (0.325484389760949, 0.649366831333291, 0.5923429764853889)]"
      ]
     },
     "execution_count": 6,
     "metadata": {},
     "output_type": "execute_result"
    }
   ],
   "source": [
    "light = sns.color_palette(\n",
    "    'ch:start=1, rot=1.5, light=.7, dark=.3, gamma=.5, hue=1'\n",
    ")\n",
    "light"
   ]
  },
  {
   "cell_type": "markdown",
   "metadata": {},
   "source": [
    "## Context component weights"
   ]
  },
  {
   "cell_type": "code",
   "execution_count": 7,
   "metadata": {},
   "outputs": [],
   "source": [
    "model_name = 'ICD'\n",
    "model = models[model_names.index(model_name)]\n",
    "fit = framework.read_model_fits(fit_dir, [model], [model_name])\n",
    "param = fit[['w_loc', 'w_cat', 'w_use']].droplevel('model')\n",
    "df = pd.melt(\n",
    "    param.reset_index(),\n",
    "    id_vars='subject',\n",
    "    value_name='Weight',\n",
    "    var_name='Component',\n",
    ")"
   ]
  },
  {
   "cell_type": "code",
   "execution_count": 8,
   "metadata": {},
   "outputs": [
    {
     "name": "stderr",
     "output_type": "stream",
     "text": [
      "/Users/nmorton/PycharmProjects/mindstorm/src/mindstorm/statplot.py:188: UserWarning: The palette list has more values (6) than needed (3), which may not be intended.\n",
      "  sns.stripplot(data=data, x=x, y=y, hue=hue, ax=ax, **point_prop, **kwargs)\n",
      "/Users/nmorton/PycharmProjects/mindstorm/src/mindstorm/statplot.py:203: UserWarning: The palette list has more values (6) than needed (3), which may not be intended.\n",
      "  sns.barplot(data=data, x=x, y=y, hue=hue, ax=ax, **bar_prop, **kwargs)\n",
      "LINO NOT subset; don't know how to subset; dropped\n"
     ]
    }
   ],
   "source": [
    "fig, ax = plt.subplots(figsize=(4, 4))\n",
    "g = statplot.plot_swarm_bar(\n",
    "    data=df.reset_index(),\n",
    "    x='Component',\n",
    "    y='Weight',\n",
    "    hue='Component',\n",
    "    point_kind='strip',\n",
    "    point_kws={'clip_on': False},\n",
    "    dark=dark,\n",
    "    light=light,\n",
    "    ax=ax,\n",
    ")\n",
    "ax.set(ylim=(0, 1), ylabel='Weight');\n",
    "ax.set_xticks([0, 1, 2], ['$w_I$', '$w_C$', '$w_D$'], usetex=True)\n",
    "fig.savefig(fig_dir / 'weights.pdf')"
   ]
  },
  {
   "cell_type": "markdown",
   "metadata": {},
   "source": [
    "## Create a parameter table"
   ]
  },
  {
   "cell_type": "code",
   "execution_count": 9,
   "metadata": {},
   "outputs": [
    {
     "data": {
      "text/html": [
       "<div>\n",
       "<style scoped>\n",
       "    .dataframe tbody tr th:only-of-type {\n",
       "        vertical-align: middle;\n",
       "    }\n",
       "\n",
       "    .dataframe tbody tr th {\n",
       "        vertical-align: top;\n",
       "    }\n",
       "\n",
       "    .dataframe thead th {\n",
       "        text-align: right;\n",
       "    }\n",
       "</style>\n",
       "<table border=\"1\" class=\"dataframe\">\n",
       "  <thead>\n",
       "    <tr style=\"text-align: right;\">\n",
       "      <th></th>\n",
       "      <th>I</th>\n",
       "      <th>C</th>\n",
       "      <th>D</th>\n",
       "      <th>IC</th>\n",
       "      <th>ID</th>\n",
       "      <th>CD</th>\n",
       "      <th>ICD</th>\n",
       "    </tr>\n",
       "  </thead>\n",
       "  <tbody>\n",
       "    <tr>\n",
       "      <th>$L_{FC}$</th>\n",
       "      <td>0.13 (0.01)</td>\n",
       "      <td>0.75 (0.00)</td>\n",
       "      <td>0.61 (0.02)</td>\n",
       "      <td>0.10 (0.01)</td>\n",
       "      <td>0.11 (0.01)</td>\n",
       "      <td>0.73 (0.01)</td>\n",
       "      <td>0.10 (0.01)</td>\n",
       "    </tr>\n",
       "    <tr>\n",
       "      <th>$L_{CF}$</th>\n",
       "      <td>0.11 (0.01)</td>\n",
       "      <td>0.80 (0.01)</td>\n",
       "      <td>0.69 (0.01)</td>\n",
       "      <td>0.09 (0.01)</td>\n",
       "      <td>0.10 (0.01)</td>\n",
       "      <td>0.74 (0.01)</td>\n",
       "      <td>0.09 (0.01)</td>\n",
       "    </tr>\n",
       "    <tr>\n",
       "      <th>$\\phi_s$</th>\n",
       "      <td>0.39 (0.06)</td>\n",
       "      <td>0.08 (0.00)</td>\n",
       "      <td>0.22 (0.02)</td>\n",
       "      <td>0.04 (0.00)</td>\n",
       "      <td>0.08 (0.01)</td>\n",
       "      <td>0.05 (0.00)</td>\n",
       "      <td>0.03 (0.00)</td>\n",
       "    </tr>\n",
       "    <tr>\n",
       "      <th>$\\phi_d$</th>\n",
       "      <td>1.24 (0.13)</td>\n",
       "      <td>0.52 (0.07)</td>\n",
       "      <td>0.35 (0.02)</td>\n",
       "      <td>1.81 (0.19)</td>\n",
       "      <td>1.80 (0.18)</td>\n",
       "      <td>0.46 (0.07)</td>\n",
       "      <td>1.84 (0.18)</td>\n",
       "    </tr>\n",
       "    <tr>\n",
       "      <th>$\\beta_{\\mathrm{enc}}$</th>\n",
       "      <td>0.71 (0.01)</td>\n",
       "      <td>0.04 (0.00)</td>\n",
       "      <td>0.10 (0.01)</td>\n",
       "      <td>0.64 (0.01)</td>\n",
       "      <td>0.66 (0.01)</td>\n",
       "      <td>0.05 (0.01)</td>\n",
       "      <td>0.62 (0.01)</td>\n",
       "    </tr>\n",
       "    <tr>\n",
       "      <th>$\\beta_{\\mathrm{start}}$</th>\n",
       "      <td>0.62 (0.04)</td>\n",
       "      <td>0.00 (0.00)</td>\n",
       "      <td>0.03 (0.01)</td>\n",
       "      <td>0.51 (0.04)</td>\n",
       "      <td>0.61 (0.04)</td>\n",
       "      <td>0.01 (0.01)</td>\n",
       "      <td>0.50 (0.04)</td>\n",
       "    </tr>\n",
       "    <tr>\n",
       "      <th>$\\beta_{\\mathrm{rec}}$</th>\n",
       "      <td>0.78 (0.01)</td>\n",
       "      <td>0.95 (0.01)</td>\n",
       "      <td>0.88 (0.03)</td>\n",
       "      <td>0.86 (0.01)</td>\n",
       "      <td>0.84 (0.01)</td>\n",
       "      <td>0.94 (0.02)</td>\n",
       "      <td>0.86 (0.01)</td>\n",
       "    </tr>\n",
       "    <tr>\n",
       "      <th>$\\theta_s$</th>\n",
       "      <td>0.01 (0.00)</td>\n",
       "      <td>0.01 (0.00)</td>\n",
       "      <td>0.01 (0.00)</td>\n",
       "      <td>0.01 (0.00)</td>\n",
       "      <td>0.01 (0.00)</td>\n",
       "      <td>0.01 (0.00)</td>\n",
       "      <td>0.01 (0.00)</td>\n",
       "    </tr>\n",
       "    <tr>\n",
       "      <th>$\\theta_r$</th>\n",
       "      <td>0.32 (0.01)</td>\n",
       "      <td>0.32 (0.01)</td>\n",
       "      <td>0.32 (0.01)</td>\n",
       "      <td>0.32 (0.01)</td>\n",
       "      <td>0.32 (0.01)</td>\n",
       "      <td>0.32 (0.01)</td>\n",
       "      <td>0.32 (0.01)</td>\n",
       "    </tr>\n",
       "    <tr>\n",
       "      <th>$w_1$</th>\n",
       "      <td>---</td>\n",
       "      <td>---</td>\n",
       "      <td>---</td>\n",
       "      <td>0.94 (0.00)</td>\n",
       "      <td>0.83 (0.00)</td>\n",
       "      <td>0.44 (0.02)</td>\n",
       "      <td>0.96 (0.00)</td>\n",
       "    </tr>\n",
       "    <tr>\n",
       "      <th>$w_2$</th>\n",
       "      <td>---</td>\n",
       "      <td>---</td>\n",
       "      <td>---</td>\n",
       "      <td>---</td>\n",
       "      <td>---</td>\n",
       "      <td>---</td>\n",
       "      <td>0.09 (0.01)</td>\n",
       "    </tr>\n",
       "    <tr>\n",
       "      <th>$k$</th>\n",
       "      <td>9</td>\n",
       "      <td>9</td>\n",
       "      <td>9</td>\n",
       "      <td>10</td>\n",
       "      <td>10</td>\n",
       "      <td>10</td>\n",
       "      <td>11</td>\n",
       "    </tr>\n",
       "    <tr>\n",
       "      <th>$\\mathrm{log}(L)$</th>\n",
       "      <td>-32.43 (0.65)</td>\n",
       "      <td>-33.32 (0.55)</td>\n",
       "      <td>-34.59 (0.63)</td>\n",
       "      <td>-30.89 (0.56)</td>\n",
       "      <td>-31.36 (0.60)</td>\n",
       "      <td>-33.15 (0.54)</td>\n",
       "      <td>-30.76 (0.56)</td>\n",
       "    </tr>\n",
       "  </tbody>\n",
       "</table>\n",
       "</div>"
      ],
      "text/plain": [
       "                                      I              C              D  \\\n",
       "$L_{FC}$                    0.13 (0.01)    0.75 (0.00)    0.61 (0.02)   \n",
       "$L_{CF}$                    0.11 (0.01)    0.80 (0.01)    0.69 (0.01)   \n",
       "$\\phi_s$                    0.39 (0.06)    0.08 (0.00)    0.22 (0.02)   \n",
       "$\\phi_d$                    1.24 (0.13)    0.52 (0.07)    0.35 (0.02)   \n",
       "$\\beta_{\\mathrm{enc}}$      0.71 (0.01)    0.04 (0.00)    0.10 (0.01)   \n",
       "$\\beta_{\\mathrm{start}}$    0.62 (0.04)    0.00 (0.00)    0.03 (0.01)   \n",
       "$\\beta_{\\mathrm{rec}}$      0.78 (0.01)    0.95 (0.01)    0.88 (0.03)   \n",
       "$\\theta_s$                  0.01 (0.00)    0.01 (0.00)    0.01 (0.00)   \n",
       "$\\theta_r$                  0.32 (0.01)    0.32 (0.01)    0.32 (0.01)   \n",
       "$w_1$                               ---            ---            ---   \n",
       "$w_2$                               ---            ---            ---   \n",
       "$k$                                   9              9              9   \n",
       "$\\mathrm{log}(L)$         -32.43 (0.65)  -33.32 (0.55)  -34.59 (0.63)   \n",
       "\n",
       "                                     IC             ID             CD  \\\n",
       "$L_{FC}$                    0.10 (0.01)    0.11 (0.01)    0.73 (0.01)   \n",
       "$L_{CF}$                    0.09 (0.01)    0.10 (0.01)    0.74 (0.01)   \n",
       "$\\phi_s$                    0.04 (0.00)    0.08 (0.01)    0.05 (0.00)   \n",
       "$\\phi_d$                    1.81 (0.19)    1.80 (0.18)    0.46 (0.07)   \n",
       "$\\beta_{\\mathrm{enc}}$      0.64 (0.01)    0.66 (0.01)    0.05 (0.01)   \n",
       "$\\beta_{\\mathrm{start}}$    0.51 (0.04)    0.61 (0.04)    0.01 (0.01)   \n",
       "$\\beta_{\\mathrm{rec}}$      0.86 (0.01)    0.84 (0.01)    0.94 (0.02)   \n",
       "$\\theta_s$                  0.01 (0.00)    0.01 (0.00)    0.01 (0.00)   \n",
       "$\\theta_r$                  0.32 (0.01)    0.32 (0.01)    0.32 (0.01)   \n",
       "$w_1$                       0.94 (0.00)    0.83 (0.00)    0.44 (0.02)   \n",
       "$w_2$                               ---            ---            ---   \n",
       "$k$                                  10             10             10   \n",
       "$\\mathrm{log}(L)$         -30.89 (0.56)  -31.36 (0.60)  -33.15 (0.54)   \n",
       "\n",
       "                                    ICD  \n",
       "$L_{FC}$                    0.10 (0.01)  \n",
       "$L_{CF}$                    0.09 (0.01)  \n",
       "$\\phi_s$                    0.03 (0.00)  \n",
       "$\\phi_d$                    1.84 (0.18)  \n",
       "$\\beta_{\\mathrm{enc}}$      0.62 (0.01)  \n",
       "$\\beta_{\\mathrm{start}}$    0.50 (0.04)  \n",
       "$\\beta_{\\mathrm{rec}}$      0.86 (0.01)  \n",
       "$\\theta_s$                  0.01 (0.00)  \n",
       "$\\theta_r$                  0.32 (0.01)  \n",
       "$w_1$                       0.96 (0.00)  \n",
       "$w_2$                       0.09 (0.01)  \n",
       "$k$                                  11  \n",
       "$\\mathrm{log}(L)$         -30.76 (0.56)  "
      ]
     },
     "execution_count": 9,
     "metadata": {},
     "output_type": "execute_result"
    }
   ],
   "source": [
    "table = reports.create_model_table(fit_dir, models, model_names, model_comp='xval')\n",
    "table.to_latex(fig_dir / 'parameters1.tex', escape=False)\n",
    "table"
   ]
  },
  {
   "cell_type": "code",
   "execution_count": 10,
   "metadata": {},
   "outputs": [
    {
     "name": "stdout",
     "output_type": "stream",
     "text": [
      "Python implementation: CPython\n",
      "Python version       : 3.10.13\n",
      "IPython version      : 8.16.1\n",
      "\n",
      "pandas    : 2.1.2\n",
      "mindstorm : 0.11.1\n",
      "seaborn   : 0.13.0\n",
      "cfr       : 0.1.0\n",
      "matplotlib: 3.8.0\n",
      "\n"
     ]
    }
   ],
   "source": [
    "%load_ext watermark\n",
    "%watermark -v -iv"
   ]
  }
 ],
 "metadata": {
  "kernelspec": {
   "display_name": "dcmr",
   "language": "python",
   "name": "dcmr"
  },
  "language_info": {
   "codemirror_mode": {
    "name": "ipython",
    "version": 3
   },
   "file_extension": ".py",
   "mimetype": "text/x-python",
   "name": "python",
   "nbconvert_exporter": "python",
   "pygments_lexer": "ipython3",
   "version": "3.10.12"
  }
 },
 "nbformat": 4,
 "nbformat_minor": 4
}
