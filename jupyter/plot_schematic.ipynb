{
 "cells": [
  {
   "cell_type": "markdown",
   "id": "a616e143-6ddf-457f-b7d1-ff09d484959a",
   "metadata": {},
   "source": [
    "# Plot model patterns for a schematic"
   ]
  },
  {
   "cell_type": "code",
   "execution_count": 1,
   "id": "84622e85-a459-4db5-b333-bd1c9e9d50eb",
   "metadata": {
    "pycharm": {
     "name": "#%%\n"
    },
    "tags": []
   },
   "outputs": [],
   "source": [
    "import os\n",
    "from pathlib import Path\n",
    "import numpy as np\n",
    "import matplotlib.pyplot as plt\n",
    "from scipy import stats\n",
    "from sklearn.decomposition import FastICA\n",
    "from mindstorm import dsmplot\n",
    "from cymr import cmr\n",
    "\n",
    "res_dir = Path(os.environ['CFR_RESULTS'])\n",
    "fig_dir = Path(os.environ['CFR_FIGURES']) / 'schematic'"
   ]
  },
  {
   "cell_type": "code",
   "execution_count": 2,
   "id": "15688b30-f459-4bbf-896c-ab458b1fcaed",
   "metadata": {
    "pycharm": {
     "name": "#%%\n"
    },
    "tags": []
   },
   "outputs": [],
   "source": [
    "patterns = cmr.load_patterns(res_dir / 'cfr_patterns.hdf5')"
   ]
  },
  {
   "cell_type": "code",
   "execution_count": 3,
   "id": "a8bf403b-54e1-4a18-8195-dd7de8ecdd79",
   "metadata": {
    "tags": []
   },
   "outputs": [],
   "source": [
    "items = [\n",
    "    'Mount Fuji', \n",
    "    'Oprah Winfrey', \n",
    "    'cup', \n",
    "    'Jennifer Aniston', \n",
    "    'Mount Everest', \n",
    "    'backpack', \n",
    "    'Eiffel Tower',\n",
    "    'White House',\n",
    "    'Wall Street',\n",
    "    'birdhouse',\n",
    "    'speaker',\n",
    "    'orange',\n",
    "    'Mike Myers',\n",
    "    'Abraham Lincoln',\n",
    "]\n",
    "categories = [1, 0, 2, 0, 1, 2, 1, 1, 1, 2, 2, 0, 0]\n",
    "ind = [np.where(patterns['items'] == i.upper())[0][0] for i in items]"
   ]
  },
  {
   "cell_type": "code",
   "execution_count": 4,
   "id": "5f88d7be-7405-4d30-859d-5f525583c34d",
   "metadata": {
    "tags": []
   },
   "outputs": [],
   "source": [
    "n = len(items)\n",
    "m = 9\n",
    "ica = FastICA(n_components=m, random_state=42)\n",
    "raw_vectors = patterns['vector']['use'][ind, :]\n",
    "vectors = np.clip(stats.zscore(ica.fit_transform(raw_vectors), axis=0), -1, 1)"
   ]
  },
  {
   "cell_type": "code",
   "execution_count": 5,
   "id": "817ced73-c7ab-408a-b5bc-ee05d7dbd493",
   "metadata": {
    "tags": []
   },
   "outputs": [],
   "source": [
    "def update(c, c_in, B):\n",
    "    cdot = np.dot(c, c_in)\n",
    "    rho = np.sqrt(1 + B ** 2 * (cdot ** 2 - 1)) - (B * cdot)\n",
    "    c_new = rho * c + B * c_in\n",
    "    return c_new"
   ]
  },
  {
   "cell_type": "code",
   "execution_count": 6,
   "id": "26e8e978-7639-40e5-a6eb-4c7b46b2d9dd",
   "metadata": {
    "tags": []
   },
   "outputs": [],
   "source": [
    "def print_pattern(x, fig_file):\n",
    "    h = dsmplot.plot_pattern(x.reshape(3, 3))\n",
    "    h.set_clim(0, 1)\n",
    "    plt.savefig(fig_file)"
   ]
  },
  {
   "cell_type": "code",
   "execution_count": 7,
   "id": "909a354d-06ea-46ab-b54b-67a4a7cccd47",
   "metadata": {
    "tags": []
   },
   "outputs": [
    {
     "data": {
      "image/png": "[encoded data removed]",
      "text/plain": [
       "<Figure size 432x288 with 1 Axes>"
      ]
     },
     "metadata": {
      "needs_background": "light"
     },
     "output_type": "display_data"
    }
   ],
   "source": [
    "B1 = 1\n",
    "B2 = 0.7\n",
    "c1 = np.zeros(9)\n",
    "c1[4] = 1\n",
    "c2 = np.zeros(9)\n",
    "c2[4] = 1\n",
    "for item, c_in in zip(items, vectors):\n",
    "    c1 = update(c1, c_in, B1)\n",
    "    c2 = update(c2, c_in, B2)\n",
    "    print_pattern(c1, fig_dir / f'use_input_{item}.png')\n",
    "    print_pattern(c2, fig_dir / f'use_blend_{item}.png')"
   ]
  },
  {
   "cell_type": "code",
   "execution_count": 8,
   "id": "895d1486-dcda-426c-8b9d-f157f9a60385",
   "metadata": {
    "tags": []
   },
   "outputs": [],
   "source": [
    "rng = np.random.default_rng(42)"
   ]
  },
  {
   "cell_type": "code",
   "execution_count": 9,
   "id": "f6504fc4-5130-439e-a875-d137f98b1718",
   "metadata": {
    "tags": []
   },
   "outputs": [
    {
     "data": {
      "image/png": "[encoded data removed]",
      "text/plain": [
       "<Figure size 432x288 with 1 Axes>"
      ]
     },
     "metadata": {
      "needs_background": "light"
     },
     "output_type": "display_data"
    }
   ],
   "source": [
    "B1 = 1\n",
    "B2 = 0.7\n",
    "c1 = np.zeros(9)\n",
    "c1[4] = 1\n",
    "c1 = np.zeros(9)\n",
    "c1[4] = 1\n",
    "indices = np.arange(9)\n",
    "rng.shuffle(indices)\n",
    "for item, c in zip(items, categories):\n",
    "    pattern = np.zeros(9)\n",
    "    pattern[indices[c * 3:(c + 1) * 3]] = 1\n",
    "    c1 = update(c1, pattern, B1)\n",
    "    c2 = update(c2, pattern, B2)\n",
    "    print_pattern(c1, fig_dir / f'cat_input_{item}.png')\n",
    "    print_pattern(c2, fig_dir / f'cat_blend_{item}.png')"
   ]
  },
  {
   "cell_type": "code",
   "execution_count": 10,
   "id": "1c820a6d-5010-43cd-84a1-09a83212e60b",
   "metadata": {
    "tags": []
   },
   "outputs": [
    {
     "data": {
      "image/png": "[encoded data removed]",
      "text/plain": [
       "<Figure size 432x288 with 1 Axes>"
      ]
     },
     "metadata": {
      "needs_background": "light"
     },
     "output_type": "display_data"
    }
   ],
   "source": [
    "B1 = 1\n",
    "B2 = 0.7\n",
    "c1 = np.zeros(9)\n",
    "c1[4] = 1\n",
    "c1 = np.zeros(9)\n",
    "c1[4] = 1\n",
    "indices = np.arange(9)\n",
    "rng.shuffle(indices)\n",
    "n = 9\n",
    "for i, item in enumerate(items[:n]):\n",
    "    pattern = np.zeros(n)\n",
    "    pattern[indices[i]] = 1\n",
    "    c1 = update(c1, pattern, B1)\n",
    "    c2 = update(c2, pattern, B2)\n",
    "    print_pattern(c1, fig_dir / f'item_input_{item}.png')\n",
    "    print_pattern(c2, fig_dir / f'item_blend_{item}.png')"
   ]
  },
  {
   "cell_type": "code",
   "execution_count": 11,
   "id": "5f736998-41b9-4d0e-81db-c6df999a3b37",
   "metadata": {
    "pycharm": {
     "name": "#%%\n"
    },
    "tags": []
   },
   "outputs": [
    {
     "name": "stdout",
     "output_type": "stream",
     "text": [
      "Python implementation: CPython\n",
      "Python version       : 3.8.3\n",
      "IPython version      : 7.13.0\n",
      "\n",
      "numpy     : 1.20.2\n",
      "matplotlib: 3.5.2\n",
      "cymr      : 0.11.2\n",
      "mindstorm : 0.9.0\n",
      "scipy     : 1.8.1\n",
      "\n"
     ]
    }
   ],
   "source": [
    "%load_ext watermark\n",
    "%watermark -v -iv"
   ]
  }
 ],
 "metadata": {
  "kernelspec": {
   "display_name": "cfr",
   "language": "python",
   "name": "cfr"
  },
  "language_info": {
   "codemirror_mode": {
    "name": "ipython",
    "version": 3
   },
   "file_extension": ".py",
   "mimetype": "text/x-python",
   "name": "python",
   "nbconvert_exporter": "python",
   "pygments_lexer": "ipython3",
   "version": "3.8.3"
  }
 },
 "nbformat": 4,
 "nbformat_minor": 5
}
