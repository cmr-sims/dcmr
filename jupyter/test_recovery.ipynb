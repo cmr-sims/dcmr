{
 "cells": [
  {
   "cell_type": "code",
   "execution_count": 1,
   "metadata": {},
   "outputs": [],
   "source": [
    "import os\n",
    "import pandas as pd\n",
    "from cymr import models\n",
    "from cymr import network\n",
    "from cfr import framework\n",
    "from psifr import fr\n",
    "\n",
    "model_dir = '/Users/morton/Dropbox/work/cmr_cfr/cfr'\n",
    "data_file = os.path.join(model_dir, 'benchmark.csv')\n",
    "patterns_file = os.path.join(model_dir, 'cfr_patterns.hdf5')"
   ]
  },
  {
   "cell_type": "code",
   "execution_count": 2,
   "metadata": {},
   "outputs": [],
   "source": [
    "data = pd.read_csv(data_file)"
   ]
  },
  {
   "cell_type": "markdown",
   "metadata": {},
   "source": [
    "## Generate simulated data"
   ]
  },
  {
   "cell_type": "code",
   "execution_count": 3,
   "metadata": {},
   "outputs": [],
   "source": [
    "param = {'Afc': 0, 'Acf': 0, 'Aff': 0, 'Dff': 1, \n",
    "         'Lfc': .16, 'Lcf': .08, 'P1': .14, 'P2': 1.3,\n",
    "         'B_enc': .75, 'B_start': .87, 'B_rec': .95, 'T': .10,\n",
    "         'X1': .0078, 'X2': .26, 'Dfc': .84, 'Dcf': .92,\n",
    "         'w_loc': .79, 'w_cat': .21, 'w_use': .2}\n",
    "\n",
    "model = models.CMRDistributed()\n",
    "wp = framework.model_variant(['loc', 'cat', 'use'], None)\n",
    "patterns = network.load_patterns(patterns_file)"
   ]
  },
  {
   "cell_type": "code",
   "execution_count": 4,
   "metadata": {},
   "outputs": [],
   "source": [
    "study_data = data.loc[(data['trial_type'] == 'study')]\n",
    "sim = model.generate(study_data, param, None,\n",
    "                     patterns=patterns, weights=wp.weights)"
   ]
  },
  {
   "cell_type": "code",
   "execution_count": 5,
   "metadata": {},
   "outputs": [
    {
     "data": {
      "text/html": [
       "<div>\n",
       "<style scoped>\n",
       "    .dataframe tbody tr th:only-of-type {\n",
       "        vertical-align: middle;\n",
       "    }\n",
       "\n",
       "    .dataframe tbody tr th {\n",
       "        vertical-align: top;\n",
       "    }\n",
       "\n",
       "    .dataframe thead th {\n",
       "        text-align: right;\n",
       "    }\n",
       "</style>\n",
       "<table border=\"1\" class=\"dataframe\">\n",
       "  <thead>\n",
       "    <tr style=\"text-align: right;\">\n",
       "      <th></th>\n",
       "      <th>subject</th>\n",
       "      <th>list</th>\n",
       "      <th>item</th>\n",
       "      <th>input</th>\n",
       "      <th>output</th>\n",
       "      <th>study</th>\n",
       "      <th>recall</th>\n",
       "      <th>repeat</th>\n",
       "      <th>intrusion</th>\n",
       "      <th>category</th>\n",
       "    </tr>\n",
       "  </thead>\n",
       "  <tbody>\n",
       "    <tr>\n",
       "      <th>0</th>\n",
       "      <td>1</td>\n",
       "      <td>2</td>\n",
       "      <td>SEAN PENN</td>\n",
       "      <td>1</td>\n",
       "      <td>NaN</td>\n",
       "      <td>True</td>\n",
       "      <td>False</td>\n",
       "      <td>0</td>\n",
       "      <td>False</td>\n",
       "      <td>cel</td>\n",
       "    </tr>\n",
       "    <tr>\n",
       "      <th>1</th>\n",
       "      <td>1</td>\n",
       "      <td>2</td>\n",
       "      <td>AUDREY HEPBURN</td>\n",
       "      <td>2</td>\n",
       "      <td>9.0</td>\n",
       "      <td>True</td>\n",
       "      <td>True</td>\n",
       "      <td>0</td>\n",
       "      <td>False</td>\n",
       "      <td>cel</td>\n",
       "    </tr>\n",
       "    <tr>\n",
       "      <th>2</th>\n",
       "      <td>1</td>\n",
       "      <td>2</td>\n",
       "      <td>ST PATRICKS CATHEDRAL</td>\n",
       "      <td>3</td>\n",
       "      <td>NaN</td>\n",
       "      <td>True</td>\n",
       "      <td>False</td>\n",
       "      <td>0</td>\n",
       "      <td>False</td>\n",
       "      <td>loc</td>\n",
       "    </tr>\n",
       "    <tr>\n",
       "      <th>3</th>\n",
       "      <td>1</td>\n",
       "      <td>2</td>\n",
       "      <td>LES INVALIDES</td>\n",
       "      <td>4</td>\n",
       "      <td>NaN</td>\n",
       "      <td>True</td>\n",
       "      <td>False</td>\n",
       "      <td>0</td>\n",
       "      <td>False</td>\n",
       "      <td>loc</td>\n",
       "    </tr>\n",
       "    <tr>\n",
       "      <th>4</th>\n",
       "      <td>1</td>\n",
       "      <td>2</td>\n",
       "      <td>GREAT ZIMBABWE RUINS</td>\n",
       "      <td>5</td>\n",
       "      <td>15.0</td>\n",
       "      <td>True</td>\n",
       "      <td>True</td>\n",
       "      <td>0</td>\n",
       "      <td>False</td>\n",
       "      <td>loc</td>\n",
       "    </tr>\n",
       "    <tr>\n",
       "      <th>...</th>\n",
       "      <td>...</td>\n",
       "      <td>...</td>\n",
       "      <td>...</td>\n",
       "      <td>...</td>\n",
       "      <td>...</td>\n",
       "      <td>...</td>\n",
       "      <td>...</td>\n",
       "      <td>...</td>\n",
       "      <td>...</td>\n",
       "      <td>...</td>\n",
       "    </tr>\n",
       "    <tr>\n",
       "      <th>715</th>\n",
       "      <td>1</td>\n",
       "      <td>48</td>\n",
       "      <td>CHE GUEVARA</td>\n",
       "      <td>20</td>\n",
       "      <td>10.0</td>\n",
       "      <td>True</td>\n",
       "      <td>True</td>\n",
       "      <td>0</td>\n",
       "      <td>False</td>\n",
       "      <td>cel</td>\n",
       "    </tr>\n",
       "    <tr>\n",
       "      <th>716</th>\n",
       "      <td>1</td>\n",
       "      <td>48</td>\n",
       "      <td>OAHU BEACH</td>\n",
       "      <td>21</td>\n",
       "      <td>4.0</td>\n",
       "      <td>True</td>\n",
       "      <td>True</td>\n",
       "      <td>0</td>\n",
       "      <td>False</td>\n",
       "      <td>loc</td>\n",
       "    </tr>\n",
       "    <tr>\n",
       "      <th>717</th>\n",
       "      <td>1</td>\n",
       "      <td>48</td>\n",
       "      <td>GATEWAY ARCH</td>\n",
       "      <td>22</td>\n",
       "      <td>3.0</td>\n",
       "      <td>True</td>\n",
       "      <td>True</td>\n",
       "      <td>0</td>\n",
       "      <td>False</td>\n",
       "      <td>loc</td>\n",
       "    </tr>\n",
       "    <tr>\n",
       "      <th>718</th>\n",
       "      <td>1</td>\n",
       "      <td>48</td>\n",
       "      <td>WHITE HOUSE</td>\n",
       "      <td>23</td>\n",
       "      <td>2.0</td>\n",
       "      <td>True</td>\n",
       "      <td>True</td>\n",
       "      <td>0</td>\n",
       "      <td>False</td>\n",
       "      <td>loc</td>\n",
       "    </tr>\n",
       "    <tr>\n",
       "      <th>719</th>\n",
       "      <td>1</td>\n",
       "      <td>48</td>\n",
       "      <td>WRIGLEY BUILDING</td>\n",
       "      <td>24</td>\n",
       "      <td>1.0</td>\n",
       "      <td>True</td>\n",
       "      <td>True</td>\n",
       "      <td>0</td>\n",
       "      <td>False</td>\n",
       "      <td>loc</td>\n",
       "    </tr>\n",
       "  </tbody>\n",
       "</table>\n",
       "<p>720 rows × 10 columns</p>\n",
       "</div>"
      ],
      "text/plain": [
       "     subject  list                   item  input  output  study  recall  \\\n",
       "0          1     2              SEAN PENN      1     NaN   True   False   \n",
       "1          1     2         AUDREY HEPBURN      2     9.0   True    True   \n",
       "2          1     2  ST PATRICKS CATHEDRAL      3     NaN   True   False   \n",
       "3          1     2          LES INVALIDES      4     NaN   True   False   \n",
       "4          1     2   GREAT ZIMBABWE RUINS      5    15.0   True    True   \n",
       "..       ...   ...                    ...    ...     ...    ...     ...   \n",
       "715        1    48            CHE GUEVARA     20    10.0   True    True   \n",
       "716        1    48             OAHU BEACH     21     4.0   True    True   \n",
       "717        1    48           GATEWAY ARCH     22     3.0   True    True   \n",
       "718        1    48            WHITE HOUSE     23     2.0   True    True   \n",
       "719        1    48       WRIGLEY BUILDING     24     1.0   True    True   \n",
       "\n",
       "     repeat  intrusion category  \n",
       "0         0      False      cel  \n",
       "1         0      False      cel  \n",
       "2         0      False      loc  \n",
       "3         0      False      loc  \n",
       "4         0      False      loc  \n",
       "..      ...        ...      ...  \n",
       "715       0      False      cel  \n",
       "716       0      False      loc  \n",
       "717       0      False      loc  \n",
       "718       0      False      loc  \n",
       "719       0      False      loc  \n",
       "\n",
       "[720 rows x 10 columns]"
      ]
     },
     "execution_count": 5,
     "metadata": {},
     "output_type": "execute_result"
    }
   ],
   "source": [
    "sim_merged = fr.merge_free_recall(sim, study_keys=['category'])\n",
    "sim_merged"
   ]
  },
  {
   "cell_type": "markdown",
   "metadata": {},
   "source": [
    "## Fit simulated data"
   ]
  },
  {
   "cell_type": "code",
   "execution_count": 6,
   "metadata": {},
   "outputs": [],
   "source": [
    "results = model.fit_indiv(data, wp.fixed, wp.free, wp.dependent,\n",
    "                          patterns=patterns, weights=wp.weights,\n",
    "                          n_jobs=1, method='de', n_rep=1,\n",
    "                          tol=0.001)"
   ]
  },
  {
   "cell_type": "code",
   "execution_count": 7,
   "metadata": {},
   "outputs": [],
   "source": [
    "fit_param = results.loc[(1, 0)].to_dict()\n",
    "fit = model.generate(study_data, fit_param, None,\n",
    "                     patterns=patterns, weights=wp.weights)\n",
    "fit_merged = fr.merge_free_recall(fit, study_keys=['category'])"
   ]
  },
  {
   "cell_type": "markdown",
   "metadata": {},
   "source": [
    "## Plot results"
   ]
  },
  {
   "cell_type": "code",
   "execution_count": 8,
   "metadata": {},
   "outputs": [
    {
     "data": {
      "image/png": "[encoded data removed]",
      "text/plain": [
       "<Figure size 288x230.4 with 1 Axes>"
      ]
     },
     "metadata": {
      "needs_background": "light"
     },
     "output_type": "display_data"
    }
   ],
   "source": [
    "g = fr.plot_raster(fr.reset_list(sim_merged), length=4);\n",
    "g.ax.set_title('Original');"
   ]
  },
  {
   "cell_type": "code",
   "execution_count": 9,
   "metadata": {},
   "outputs": [
    {
     "data": {
      "image/png": "[encoded data removed]",
      "text/plain": [
       "<Figure size 288x230.4 with 1 Axes>"
      ]
     },
     "metadata": {
      "needs_background": "light"
     },
     "output_type": "display_data"
    }
   ],
   "source": [
    "g = fr.plot_raster(fr.reset_list(fit_merged), length=4);\n",
    "g.ax.set_title('Fitted');"
   ]
  },
  {
   "cell_type": "code",
   "execution_count": 10,
   "metadata": {},
   "outputs": [
    {
     "data": {
      "image/png": "[encoded data removed]",
      "text/plain": [
       "<Figure size 288x230.4 with 1 Axes>"
      ]
     },
     "metadata": {
      "needs_background": "light"
     },
     "output_type": "display_data"
    }
   ],
   "source": [
    "g = fr.plot_raster(fr.reset_list(sim_merged), hue='category', length=4);\n",
    "g.ax.set_title('Original');"
   ]
  },
  {
   "cell_type": "code",
   "execution_count": 11,
   "metadata": {},
   "outputs": [
    {
     "data": {
      "image/png": "[encoded data removed]",
      "text/plain": [
       "<Figure size 288x230.4 with 1 Axes>"
      ]
     },
     "metadata": {
      "needs_background": "light"
     },
     "output_type": "display_data"
    }
   ],
   "source": [
    "g = fr.plot_raster(fr.reset_list(fit_merged), hue='category', length=4);\n",
    "g.ax.set_title('Fitted');"
   ]
  },
  {
   "cell_type": "markdown",
   "metadata": {},
   "source": [
    "## Compare original and fitted parameters"
   ]
  },
  {
   "cell_type": "code",
   "execution_count": 12,
   "metadata": {},
   "outputs": [
    {
     "data": {
      "text/html": [
       "<div>\n",
       "<style scoped>\n",
       "    .dataframe tbody tr th:only-of-type {\n",
       "        vertical-align: middle;\n",
       "    }\n",
       "\n",
       "    .dataframe tbody tr th {\n",
       "        vertical-align: top;\n",
       "    }\n",
       "\n",
       "    .dataframe thead th {\n",
       "        text-align: right;\n",
       "    }\n",
       "</style>\n",
       "<table border=\"1\" class=\"dataframe\">\n",
       "  <thead>\n",
       "    <tr style=\"text-align: right;\">\n",
       "      <th></th>\n",
       "      <th>orig</th>\n",
       "      <th>fit</th>\n",
       "    </tr>\n",
       "  </thead>\n",
       "  <tbody>\n",
       "    <tr>\n",
       "      <th>Acf</th>\n",
       "      <td>0.0000</td>\n",
       "      <td>0.000000</td>\n",
       "    </tr>\n",
       "    <tr>\n",
       "      <th>Afc</th>\n",
       "      <td>0.0000</td>\n",
       "      <td>0.000000</td>\n",
       "    </tr>\n",
       "    <tr>\n",
       "      <th>Aff</th>\n",
       "      <td>0.0000</td>\n",
       "      <td>0.000000</td>\n",
       "    </tr>\n",
       "    <tr>\n",
       "      <th>B_enc</th>\n",
       "      <td>0.7500</td>\n",
       "      <td>0.739034</td>\n",
       "    </tr>\n",
       "    <tr>\n",
       "      <th>B_rec</th>\n",
       "      <td>0.9500</td>\n",
       "      <td>1.000000</td>\n",
       "    </tr>\n",
       "    <tr>\n",
       "      <th>B_start</th>\n",
       "      <td>0.8700</td>\n",
       "      <td>0.676402</td>\n",
       "    </tr>\n",
       "    <tr>\n",
       "      <th>Dcf</th>\n",
       "      <td>0.9200</td>\n",
       "      <td>0.859706</td>\n",
       "    </tr>\n",
       "    <tr>\n",
       "      <th>Dfc</th>\n",
       "      <td>0.8400</td>\n",
       "      <td>0.715030</td>\n",
       "    </tr>\n",
       "    <tr>\n",
       "      <th>Dff</th>\n",
       "      <td>1.0000</td>\n",
       "      <td>1.000000</td>\n",
       "    </tr>\n",
       "    <tr>\n",
       "      <th>Lcf</th>\n",
       "      <td>0.0800</td>\n",
       "      <td>0.140294</td>\n",
       "    </tr>\n",
       "    <tr>\n",
       "      <th>Lfc</th>\n",
       "      <td>0.1600</td>\n",
       "      <td>0.284970</td>\n",
       "    </tr>\n",
       "    <tr>\n",
       "      <th>P1</th>\n",
       "      <td>0.1400</td>\n",
       "      <td>0.146636</td>\n",
       "    </tr>\n",
       "    <tr>\n",
       "      <th>P2</th>\n",
       "      <td>1.3000</td>\n",
       "      <td>1.588139</td>\n",
       "    </tr>\n",
       "    <tr>\n",
       "      <th>T</th>\n",
       "      <td>0.1000</td>\n",
       "      <td>0.153325</td>\n",
       "    </tr>\n",
       "    <tr>\n",
       "      <th>X1</th>\n",
       "      <td>0.0078</td>\n",
       "      <td>0.007931</td>\n",
       "    </tr>\n",
       "    <tr>\n",
       "      <th>X2</th>\n",
       "      <td>0.2600</td>\n",
       "      <td>0.261723</td>\n",
       "    </tr>\n",
       "    <tr>\n",
       "      <th>k</th>\n",
       "      <td>NaN</td>\n",
       "      <td>12.000000</td>\n",
       "    </tr>\n",
       "    <tr>\n",
       "      <th>logl</th>\n",
       "      <td>NaN</td>\n",
       "      <td>-854.009841</td>\n",
       "    </tr>\n",
       "    <tr>\n",
       "      <th>n</th>\n",
       "      <td>NaN</td>\n",
       "      <td>373.000000</td>\n",
       "    </tr>\n",
       "    <tr>\n",
       "      <th>w0</th>\n",
       "      <td>NaN</td>\n",
       "      <td>0.765949</td>\n",
       "    </tr>\n",
       "    <tr>\n",
       "      <th>w1</th>\n",
       "      <td>NaN</td>\n",
       "      <td>0.403332</td>\n",
       "    </tr>\n",
       "    <tr>\n",
       "      <th>w_cat</th>\n",
       "      <td>0.2100</td>\n",
       "      <td>0.234051</td>\n",
       "    </tr>\n",
       "    <tr>\n",
       "      <th>w_loc</th>\n",
       "      <td>0.7900</td>\n",
       "      <td>0.765949</td>\n",
       "    </tr>\n",
       "    <tr>\n",
       "      <th>w_use</th>\n",
       "      <td>0.2000</td>\n",
       "      <td>0.403332</td>\n",
       "    </tr>\n",
       "  </tbody>\n",
       "</table>\n",
       "</div>"
      ],
      "text/plain": [
       "           orig         fit\n",
       "Acf      0.0000    0.000000\n",
       "Afc      0.0000    0.000000\n",
       "Aff      0.0000    0.000000\n",
       "B_enc    0.7500    0.739034\n",
       "B_rec    0.9500    1.000000\n",
       "B_start  0.8700    0.676402\n",
       "Dcf      0.9200    0.859706\n",
       "Dfc      0.8400    0.715030\n",
       "Dff      1.0000    1.000000\n",
       "Lcf      0.0800    0.140294\n",
       "Lfc      0.1600    0.284970\n",
       "P1       0.1400    0.146636\n",
       "P2       1.3000    1.588139\n",
       "T        0.1000    0.153325\n",
       "X1       0.0078    0.007931\n",
       "X2       0.2600    0.261723\n",
       "k           NaN   12.000000\n",
       "logl        NaN -854.009841\n",
       "n           NaN  373.000000\n",
       "w0          NaN    0.765949\n",
       "w1          NaN    0.403332\n",
       "w_cat    0.2100    0.234051\n",
       "w_loc    0.7900    0.765949\n",
       "w_use    0.2000    0.403332"
      ]
     },
     "execution_count": 12,
     "metadata": {},
     "output_type": "execute_result"
    }
   ],
   "source": [
    "results.loc[(1, 0)]\n",
    "pd.DataFrame({'orig': pd.Series(param), 'fit': results.loc[(1, 0)]})"
   ]
  }
 ],
 "metadata": {
  "kernelspec": {
   "display_name": "cfr",
   "language": "python",
   "name": "cfr"
  },
  "language_info": {
   "codemirror_mode": {
    "name": "ipython",
    "version": 3
   },
   "file_extension": ".py",
   "mimetype": "text/x-python",
   "name": "python",
   "nbconvert_exporter": "python",
   "pygments_lexer": "ipython3",
   "version": "3.8.3"
  }
 },
 "nbformat": 4,
 "nbformat_minor": 4
}
