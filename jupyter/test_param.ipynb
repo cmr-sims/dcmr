{
 "cells": [
  {
   "cell_type": "code",
   "execution_count": 1,
   "metadata": {},
   "outputs": [
    {
     "data": {
      "text/plain": [
       "fixed:\n",
       "s_w2v: 1\n",
       "\n",
       "free:\n",
       "Lfc: (0, 1)\n",
       "Lcf: (0, 1)\n",
       "P1: (0, 10)\n",
       "P2: (0, 10)\n",
       "B_enc: (0, 1)\n",
       "B_start: (0, 1)\n",
       "B_rec: (0, 1)\n",
       "X1: (0, 1)\n",
       "x2: (0, 10)\n",
       "w0: (0, 1)\n",
       "\n",
       "dependent:\n",
       "Dfc: <function <lambda> at 0x10bd215e0>\n",
       "Dcf: <function <lambda> at 0x10bd21430>\n",
       "w_loc: <function WeightParameters.add_weight_param.<locals>.<lambda> at 0x11fccc9d0>\n",
       "w_cat: <function WeightParameters.add_weight_param.<locals>.<lambda> at 0x11fccca60>\n",
       "\n",
       "weights:\n",
       "fcf: {'loc': 'w_loc', 'cat': 'w_cat'}\n",
       "ff: {'w2v': 's_w2v'}"
      ]
     },
     "execution_count": 1,
     "metadata": {},
     "output_type": "execute_result"
    }
   ],
   "source": [
    "from cfr import framework\n",
    "import importlib\n",
    "importlib.reload(framework)\n",
    "\n",
    "wp = framework.WeightParameters()\n",
    "wp.add_free(Lfc=(0, 1), Lcf=(0, 1), P1=(0, 10), P2=(0, 10), \n",
    "            B_enc=(0, 1), B_start=(0, 1), B_rec=(0, 1), X1=(0, 1), x2=(0, 10))\n",
    "wp.add_dependent(Dfc=lambda par: 1 - par['Lfc'],\n",
    "                 Dcf=lambda par: 1 - par['Lcf'])\n",
    "wp.add_weight_param('fcf', ['loc', 'cat'])\n",
    "wp.add_weight_param('ff', ['w2v'])\n",
    "wp"
   ]
  },
  {
   "cell_type": "code",
   "execution_count": 6,
   "metadata": {},
   "outputs": [
    {
     "data": {
      "text/plain": [
       "{'Lfc': 0.8,\n",
       " 'Lcf': 0.8,\n",
       " 'w0': 0.3,\n",
       " 'w1': 10,\n",
       " 'Dfc': 0.19999999999999996,\n",
       " 'Dcf': 0.19999999999999996,\n",
       " 'w_loc': 0.3,\n",
       " 'w_cat': 0.7}"
      ]
     },
     "execution_count": 6,
     "metadata": {},
     "output_type": "execute_result"
    }
   ],
   "source": [
    "param = {'Lfc': .8, 'Lcf': .8, 'w0': .3, 'w1': 10}\n",
    "for name, func in wp.dependent.items():\n",
    "    param[name] = func(param)\n",
    "param"
   ]
  }
 ],
 "metadata": {
  "kernelspec": {
   "display_name": "cfr",
   "language": "python",
   "name": "cfr"
  },
  "language_info": {
   "codemirror_mode": {
    "name": "ipython",
    "version": 3
   },
   "file_extension": ".py",
   "mimetype": "text/x-python",
   "name": "python",
   "nbconvert_exporter": "python",
   "pygments_lexer": "ipython3",
   "version": "3.8.2"
  }
 },
 "nbformat": 4,
 "nbformat_minor": 4
}
