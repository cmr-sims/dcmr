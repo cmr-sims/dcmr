{
 "cells": [
  {
   "cell_type": "code",
   "execution_count": 1,
   "metadata": {},
   "outputs": [],
   "source": [
    "import os\n",
    "import numpy as np\n",
    "import pandas as pd\n",
    "import seaborn as sns\n",
    "from cymr import models\n",
    "from cymr import network\n",
    "from cymr import fit\n",
    "from cfr import framework\n",
    "from psifr import fr\n",
    "\n",
    "model_dir = '/Users/morton/Dropbox/work/cmr_cfr/cfr'\n",
    "data_file = os.path.join(model_dir, 'benchmark.csv')\n",
    "patterns_file = os.path.join(model_dir, 'cfr_patterns.hdf5')"
   ]
  },
  {
   "cell_type": "code",
   "execution_count": 2,
   "metadata": {},
   "outputs": [],
   "source": [
    "fixed = {'Afc': 0, 'Acf': 0, 'Aff': 0, 'Dff': 0.1, \n",
    "         'Lfc': .16, 'Lcf': .08, 'P1': .14, 'P2': 1.3,\n",
    "         'B_enc': .75, 'B_start': .87, 'B_rec': .95, 'T': .10,\n",
    "         'X1': .0078, 'X2': .26, 'Dfc': .84, 'Dcf': .92,\n",
    "         'w0': .5, 'w1': .2}\n",
    "data = pd.read_csv(data_file)\n",
    "study_data = data.loc[(data['trial_type'] == 'study')]\n",
    "model = models.CMRDistributed()\n",
    "wp = framework.model_variant(['loc', 'cat', 'use'])\n",
    "patterns = network.load_patterns(patterns_file)"
   ]
  },
  {
   "cell_type": "code",
   "execution_count": 4,
   "metadata": {},
   "outputs": [
    {
     "ename": "AttributeError",
     "evalue": "module 'cymr.network' has no attribute 'study'",
     "output_type": "error",
     "traceback": [
      "\u001b[0;31m---------------------------------------------------------------------------\u001b[0m",
      "\u001b[0;31mAttributeError\u001b[0m                            Traceback (most recent call last)",
      "\u001b[0;32m<ipython-input-4-1b501ae5b14e>\u001b[0m in \u001b[0;36m<module>\u001b[0;34m\u001b[0m\n\u001b[0;32m----> 1\u001b[0;31m \u001b[0mhelp\u001b[0m\u001b[0;34m(\u001b[0m\u001b[0mnetwork\u001b[0m\u001b[0;34m.\u001b[0m\u001b[0mstudy\u001b[0m\u001b[0;34m)\u001b[0m\u001b[0;34m\u001b[0m\u001b[0;34m\u001b[0m\u001b[0m\n\u001b[0m",
      "\u001b[0;31mAttributeError\u001b[0m: module 'cymr.network' has no attribute 'study'"
     ]
    }
   ],
   "source": [
    "help(network.study)"
   ]
  }
 ],
 "metadata": {
  "kernelspec": {
   "display_name": "cfr",
   "language": "python",
   "name": "cfr"
  },
  "language_info": {
   "codemirror_mode": {
    "name": "ipython",
    "version": 3
   },
   "file_extension": ".py",
   "mimetype": "text/x-python",
   "name": "python",
   "nbconvert_exporter": "python",
   "pygments_lexer": "ipython3",
   "version": "3.8.3"
  }
 },
 "nbformat": 4,
 "nbformat_minor": 4
}
