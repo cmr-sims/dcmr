{
 "cells": [
  {
   "cell_type": "code",
   "execution_count": 4,
   "metadata": {},
   "outputs": [],
   "source": [
    "import h5py\n",
    "import numpy as np\n",
    "import pandas as pd\n",
    "from psifr import fr\n",
    "from cymr import fit\n",
    "from cymr import models\n",
    "from cymr import network\n",
    "import importlib\n",
    "\n",
    "data_file = '/Users/morton/Dropbox/work/cmr_cfr/cfr/benchmark.csv'\n",
    "patterns_file = '/Users/morton/Dropbox/work/cmr_cfr/cfr/cfr_patterns.hdf5'"
   ]
  },
  {
   "cell_type": "markdown",
   "metadata": {},
   "source": [
    "## Load and plot data"
   ]
  },
  {
   "cell_type": "code",
   "execution_count": 5,
   "metadata": {},
   "outputs": [
    {
     "data": {
      "text/plain": [
       "<seaborn.axisgrid.FacetGrid at 0x117a2c1c0>"
      ]
     },
     "execution_count": 5,
     "metadata": {},
     "output_type": "execute_result"
    },
    {
     "data": {
      "image/png": "[encoded data removed]",
      "text/plain": [
       "<Figure size 216x216 with 1 Axes>"
      ]
     },
     "metadata": {
      "needs_background": "light"
     },
     "output_type": "display_data"
    }
   ],
   "source": [
    "data = pd.read_csv(data_file)\n",
    "merged = fr.merge_free_recall(data)\n",
    "fr.plot_spc(fr.spc(merged))"
   ]
  },
  {
   "cell_type": "markdown",
   "metadata": {},
   "source": [
    "## Test localist benchmark"
   ]
  },
  {
   "cell_type": "code",
   "execution_count": 6,
   "metadata": {},
   "outputs": [
    {
     "data": {
      "text/plain": [
       "(-1100.8271552820725, 373)"
      ]
     },
     "execution_count": 6,
     "metadata": {},
     "output_type": "execute_result"
    }
   ],
   "source": [
    "# target: -1110.9\n",
    "# new: -1100.8271552820725\n",
    "patterns = network.load_patterns(patterns_file)\n",
    "cmr = models.CMRDistributed()\n",
    "param = {'B_enc': 0.79, 'B_rec': 0.94, 'w_loc': 1,\n",
    "         'Afc': 0, 'Acf': 0, 'Aff': 0,\n",
    "         'Dfc': 70.46, 'Dcf': 100, 'Dff': 2.5,\n",
    "         'Lfc': 1, 'Lcf': 1, 'P1': 16.84, 'P2': 1.64,\n",
    "         'T': 10, 'X1': 0.0093, 'X2': 0.32, 'B_start': 0.1}\n",
    "weights = {'fcf': {'loc': 'w_loc'}}\n",
    "cmr.likelihood(data, param, patterns=patterns, weights=weights)"
   ]
  },
  {
   "cell_type": "code",
   "execution_count": 9,
   "metadata": {},
   "outputs": [
    {
     "data": {
      "text/plain": [
       "array([-59.14059126, -94.89316321, -25.67358416, -35.58386972,\n",
       "       -50.07208933, -29.82464219, -17.48503924, -20.79516977,\n",
       "       -26.03759877, -15.16431021, -33.01936546, -67.34216243,\n",
       "       -35.3040444 , -30.31691792, -24.99815085, -32.5290064 ,\n",
       "       -32.82336958, -27.37985824, -19.33660486, -35.95456378,\n",
       "       -74.50064884, -94.0790228 , -77.99967756, -58.95685267,\n",
       "       -58.09332813, -48.8254222 , -25.34584254, -55.22829858,\n",
       "       -40.56980402, -49.87370193])"
      ]
     },
     "execution_count": 9,
     "metadata": {},
     "output_type": "execute_result"
    }
   ],
   "source": [
    "# likelihood by list (for debugging)\n",
    "logl = np.zeros(30)\n",
    "lists = data['list'].unique()\n",
    "list_patterns = {'vector': {'loc': np.eye(24)}}\n",
    "for i, listno in enumerate(lists):\n",
    "    list1 = data.loc[data['list'] == listno].copy()\n",
    "    study_index = list1.loc[list1['trial_type'] == 'study']['item_index']\n",
    "    full_index = list1['item_index'].to_numpy()\n",
    "    for j, idx in enumerate(study_index):\n",
    "        list1.loc[full_index == idx, 'item_index'] = j\n",
    "    cmr = models.CMRDistributed()\n",
    "    ll, n = cmr.likelihood(list1, param, patterns=list_patterns, weights=weights)\n",
    "    logl[i] = ll\n",
    "logl"
   ]
  },
  {
   "cell_type": "markdown",
   "metadata": {},
   "source": [
    "## Test semantic vectors"
   ]
  },
  {
   "cell_type": "code",
   "execution_count": 10,
   "metadata": {},
   "outputs": [
    {
     "data": {
      "text/plain": [
       "(-1183.6373719985013, 373)"
      ]
     },
     "execution_count": 10,
     "metadata": {},
     "output_type": "execute_result"
    }
   ],
   "source": [
    "# -1183.6373719985013\n",
    "param = {'B_enc': 0.79, 'B_rec': 0.94, 'w_w2v': 1,\n",
    "         'Afc': 0, 'Acf': 0, 'Aff': 0,\n",
    "         'Dfc': 70.46, 'Dcf': 100, 'Dff': 2.5,\n",
    "         'Lfc': 1, 'Lcf': 1, 'P1': 16.84, 'P2': 1.64,\n",
    "         'T': 10, 'X1': 0.0093, 'X2': 0.32, 'B_start': 0.1}\n",
    "weights = {'fcf': {'w2v': 'w_w2v'}}\n",
    "cmr.likelihood(data, param, patterns=patterns, weights=weights)"
   ]
  }
 ],
 "metadata": {
  "kernelspec": {
   "display_name": "cfr",
   "language": "python",
   "name": "cfr"
  },
  "language_info": {
   "codemirror_mode": {
    "name": "ipython",
    "version": 3
   },
   "file_extension": ".py",
   "mimetype": "text/x-python",
   "name": "python",
   "nbconvert_exporter": "python",
   "pygments_lexer": "ipython3",
   "version": "3.8.8"
  }
 },
 "nbformat": 4,
 "nbformat_minor": 4
}
