{
 "cells": [
  {
   "cell_type": "code",
   "execution_count": 1,
   "metadata": {},
   "outputs": [],
   "source": [
    "import numpy as np\n",
    "import pandas as pd\n",
    "from psifr import fr\n",
    "from cymr import fit\n",
    "from cymr import models\n",
    "import importlib\n",
    "\n",
    "data_file = '/Users/morton/Dropbox/work/cfr/benchmark/benchmark.csv'"
   ]
  },
  {
   "cell_type": "markdown",
   "metadata": {},
   "source": [
    "## Load and plot data"
   ]
  },
  {
   "cell_type": "code",
   "execution_count": 2,
   "metadata": {},
   "outputs": [
    {
     "data": {
      "text/plain": [
       "<seaborn.axisgrid.FacetGrid at 0x122a68880>"
      ]
     },
     "execution_count": 2,
     "metadata": {},
     "output_type": "execute_result"
    },
    {
     "data": {
      "image/png": "[encoded data removed]",
      "text/plain": [
       "<Figure size 216x216 with 1 Axes>"
      ]
     },
     "metadata": {
      "needs_background": "light"
     },
     "output_type": "display_data"
    }
   ],
   "source": [
    "data = pd.read_csv(data_file)\n",
    "merged = fr.merge_free_recall(data)\n",
    "fr.plot_spc(fr.spc(merged))"
   ]
  },
  {
   "cell_type": "markdown",
   "metadata": {},
   "source": [
    "## Test localist benchmark"
   ]
  },
  {
   "cell_type": "code",
   "execution_count": 3,
   "metadata": {},
   "outputs": [
    {
     "data": {
      "text/plain": [
       "-1110.8742291846318"
      ]
     },
     "execution_count": 3,
     "metadata": {},
     "output_type": "execute_result"
    }
   ],
   "source": [
    "# target: -1110.9\n",
    "cmr = models.CMRDistributed()\n",
    "param = {'B_enc': 0.79, 'B_rec': 0.94, 'w_loc': 1,\n",
    "         'Afc': 0, 'Acf': 0, 'Aff': 0,\n",
    "         'Dfc': 70.46, 'Dcf': 100, 'Dff': 2.5,\n",
    "         'Lfc': 1, 'Lcf': 1, 'P1': 16.84, 'P2': 1.64,\n",
    "         'T': 4.64, 'X1': 0.0093, 'X2': 0.32, 'B_start': 0.1}\n",
    "patterns = {'vector': {'loc': np.eye(768)}}\n",
    "weights = {'fcf': {'loc': 'w_loc'}}\n",
    "cmr.likelihood(data, param, patterns=patterns, weights=weights)"
   ]
  },
  {
   "cell_type": "code",
   "execution_count": 4,
   "metadata": {},
   "outputs": [
    {
     "data": {
      "text/plain": [
       "array([ -89.44595204, -100.22877528,  -25.47942429,  -34.70763813,\n",
       "        -80.32423429,  -28.47962083,  -16.85544253,  -20.95856819,\n",
       "        -26.25922214,  -14.94424193,  -32.34119658, -104.18922929,\n",
       "        -34.10812773,  -29.55362636,  -24.02063001,  -31.28096565,\n",
       "        -31.9136679 ,  -26.19332468,  -17.80765793,  -57.01606746,\n",
       "        -73.90126043, -123.98991859, -107.89881103,  -89.33226729,\n",
       "        -56.86987744,  -69.37670436,  -24.7727888 ,  -84.94338803,\n",
       "        -71.75697081,  -79.7133924 ])"
      ]
     },
     "execution_count": 4,
     "metadata": {},
     "output_type": "execute_result"
    }
   ],
   "source": [
    "# likelihood by list (for debugging)\n",
    "logl = np.zeros(30)\n",
    "lists = data['list'].unique()\n",
    "patterns = {'vector': {'loc': np.eye(24)}}\n",
    "for i, listno in enumerate(lists):\n",
    "    list1 = data.loc[data['list'] == listno].copy()\n",
    "    study_index = list1.loc[list1['trial_type'] == 'study']['item_index']\n",
    "    full_index = list1['item_index'].to_numpy()\n",
    "    for j, idx in enumerate(study_index):\n",
    "        list1.loc[full_index == idx, 'item_index'] = j\n",
    "    cmr = models.CMRDistributed()\n",
    "    ll = cmr.likelihood(list1, param, patterns=patterns, weights=weights)\n",
    "    logl[i] = ll\n",
    "logl"
   ]
  }
 ],
 "metadata": {
  "kernelspec": {
   "display_name": "cfr",
   "language": "python",
   "name": "cfr"
  },
  "language_info": {
   "codemirror_mode": {
    "name": "ipython",
    "version": 3
   },
   "file_extension": ".py",
   "mimetype": "text/x-python",
   "name": "python",
   "nbconvert_exporter": "python",
   "pygments_lexer": "ipython3",
   "version": "3.8.2"
  }
 },
 "nbformat": 4,
 "nbformat_minor": 4
}
