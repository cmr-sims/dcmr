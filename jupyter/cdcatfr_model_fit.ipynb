{
 "cells": [
  {
   "cell_type": "code",
   "execution_count": 1,
   "id": "655b99bc-29d1-47ad-b6b6-41bb2ba502f6",
   "metadata": {
    "execution": {
     "iopub.execute_input": "2025-06-16T01:59:36.807790Z",
     "iopub.status.busy": "2025-06-16T01:59:36.807719Z",
     "iopub.status.idle": "2025-06-16T01:59:38.066766Z",
     "shell.execute_reply": "2025-06-16T01:59:38.066516Z",
     "shell.execute_reply.started": "2025-06-16T01:59:36.807773Z"
    }
   },
   "outputs": [],
   "source": [
    "import os\n",
    "from pathlib import Path\n",
    "import numpy as np\n",
    "import pandas as pd\n",
    "import matplotlib.pyplot as plt\n",
    "import seaborn as sns\n",
    "import pingouin as pg\n",
    "from psifr import fr\n",
    "import swarmbar as sb\n",
    "\n",
    "from cymr import cmr\n",
    "from dcmr import framework\n",
    "from dcmr import figures\n",
    "from dcmr import task\n",
    "from dcmr import reports\n",
    "\n",
    "# res_dir = Path(os.environ['CDC_RESULTS'])\n",
    "res_dir = Path('/Users/morton/Dropbox/work/dcmr/cdcatfr2')\n",
    "# fit_dir = Path(os.environ['CDC_FITS'])\n",
    "fit_dir = Path('/Users/morton/Dropbox/work/dcmr/cdcatfr2/fits')\n",
    "# fig_dir = Path(os.environ['CDC_FIGURES'])\n",
    "fig_dir = Path('/Users/morton/Dropbox/work/dcmr/cdcatfr2/figs/v1') / 'plots'\n",
    "\n",
    "data_file = res_dir / 'data.csv'\n",
    "patterns_file = res_dir / 'patterns.hdf5'\n",
    "model_dir = fit_dir / 'v1'\n",
    "fig_dir.mkdir(exist_ok=True, parents=True)\n",
    "figures.set_style()"
   ]
  },
  {
   "cell_type": "code",
   "execution_count": 2,
   "id": "636227b4-f189-4441-aae1-879b066e5321",
   "metadata": {
    "execution": {
     "iopub.execute_input": "2025-06-16T01:59:38.067166Z",
     "iopub.status.busy": "2025-06-16T01:59:38.067064Z",
     "iopub.status.idle": "2025-06-16T01:59:38.092342Z",
     "shell.execute_reply": "2025-06-16T01:59:38.092100Z",
     "shell.execute_reply.started": "2025-06-16T01:59:38.067158Z"
    }
   },
   "outputs": [
    {
     "data": {
      "text/html": [
       "<div>\n",
       "<style scoped>\n",
       "    .dataframe tbody tr th:only-of-type {\n",
       "        vertical-align: middle;\n",
       "    }\n",
       "\n",
       "    .dataframe tbody tr th {\n",
       "        vertical-align: top;\n",
       "    }\n",
       "\n",
       "    .dataframe thead th {\n",
       "        text-align: right;\n",
       "    }\n",
       "</style>\n",
       "<table border=\"1\" class=\"dataframe\">\n",
       "  <thead>\n",
       "    <tr style=\"text-align: right;\">\n",
       "      <th></th>\n",
       "      <th>subject</th>\n",
       "      <th>list</th>\n",
       "      <th>position</th>\n",
       "      <th>trial_type</th>\n",
       "      <th>item</th>\n",
       "      <th>category</th>\n",
       "      <th>distractor</th>\n",
       "      <th>item_index</th>\n",
       "    </tr>\n",
       "  </thead>\n",
       "  <tbody>\n",
       "    <tr>\n",
       "      <th>0</th>\n",
       "      <td>201</td>\n",
       "      <td>1</td>\n",
       "      <td>1</td>\n",
       "      <td>study</td>\n",
       "      <td>MASCARA</td>\n",
       "      <td>obj</td>\n",
       "      <td>0.0</td>\n",
       "      <td>646</td>\n",
       "    </tr>\n",
       "    <tr>\n",
       "      <th>1</th>\n",
       "      <td>201</td>\n",
       "      <td>1</td>\n",
       "      <td>2</td>\n",
       "      <td>study</td>\n",
       "      <td>GOLF CLUB</td>\n",
       "      <td>obj</td>\n",
       "      <td>0.0</td>\n",
       "      <td>606</td>\n",
       "    </tr>\n",
       "    <tr>\n",
       "      <th>2</th>\n",
       "      <td>201</td>\n",
       "      <td>1</td>\n",
       "      <td>3</td>\n",
       "      <td>study</td>\n",
       "      <td>KEYCHAIN</td>\n",
       "      <td>obj</td>\n",
       "      <td>0.0</td>\n",
       "      <td>626</td>\n",
       "    </tr>\n",
       "    <tr>\n",
       "      <th>3</th>\n",
       "      <td>201</td>\n",
       "      <td>1</td>\n",
       "      <td>4</td>\n",
       "      <td>study</td>\n",
       "      <td>LOS ANGELES</td>\n",
       "      <td>loc</td>\n",
       "      <td>0.0</td>\n",
       "      <td>370</td>\n",
       "    </tr>\n",
       "    <tr>\n",
       "      <th>4</th>\n",
       "      <td>201</td>\n",
       "      <td>1</td>\n",
       "      <td>5</td>\n",
       "      <td>study</td>\n",
       "      <td>GETTYSBURG</td>\n",
       "      <td>loc</td>\n",
       "      <td>0.0</td>\n",
       "      <td>325</td>\n",
       "    </tr>\n",
       "  </tbody>\n",
       "</table>\n",
       "</div>"
      ],
      "text/plain": [
       "   subject  list  position trial_type         item category  distractor  \\\n",
       "0      201     1         1      study      MASCARA      obj         0.0   \n",
       "1      201     1         2      study    GOLF CLUB      obj         0.0   \n",
       "2      201     1         3      study     KEYCHAIN      obj         0.0   \n",
       "3      201     1         4      study  LOS ANGELES      loc         0.0   \n",
       "4      201     1         5      study   GETTYSBURG      loc         0.0   \n",
       "\n",
       "   item_index  \n",
       "0         646  \n",
       "1         606  \n",
       "2         626  \n",
       "3         370  \n",
       "4         325  "
      ]
     },
     "execution_count": 2,
     "metadata": {},
     "output_type": "execute_result"
    }
   ],
   "source": [
    "patterns = cmr.load_patterns(patterns_file)\n",
    "data = pd.read_csv(data_file).astype({'item_index': 'Int64'})\n",
    "data.head()"
   ]
  },
  {
   "cell_type": "code",
   "execution_count": 3,
   "id": "a56b10ac-fdb2-455b-a06c-22b2a98b1556",
   "metadata": {
    "execution": {
     "iopub.execute_input": "2025-06-16T01:59:38.093521Z",
     "iopub.status.busy": "2025-06-16T01:59:38.093417Z",
     "iopub.status.idle": "2025-06-16T01:59:38.095575Z",
     "shell.execute_reply": "2025-06-16T01:59:38.095354Z",
     "shell.execute_reply.started": "2025-06-16T01:59:38.093513Z"
    }
   },
   "outputs": [
    {
     "data": {
      "text/plain": [
       "(17793, 8)"
      ]
     },
     "execution_count": 3,
     "metadata": {},
     "output_type": "execute_result"
    }
   ],
   "source": [
    "data.shape"
   ]
  },
  {
   "cell_type": "code",
   "execution_count": 4,
   "id": "2df90565-376b-4285-95ea-e71df32c51f5",
   "metadata": {
    "execution": {
     "iopub.execute_input": "2025-06-16T01:59:38.096166Z",
     "iopub.status.busy": "2025-06-16T01:59:38.095967Z",
     "iopub.status.idle": "2025-06-16T01:59:51.904398Z",
     "shell.execute_reply": "2025-06-16T01:59:51.904128Z",
     "shell.execute_reply.started": "2025-06-16T01:59:38.096159Z"
    }
   },
   "outputs": [
    {
     "data": {
      "text/html": [
       "<div>\n",
       "<style scoped>\n",
       "    .dataframe tbody tr th:only-of-type {\n",
       "        vertical-align: middle;\n",
       "    }\n",
       "\n",
       "    .dataframe tbody tr th {\n",
       "        vertical-align: top;\n",
       "    }\n",
       "\n",
       "    .dataframe thead th {\n",
       "        text-align: right;\n",
       "    }\n",
       "</style>\n",
       "<table border=\"1\" class=\"dataframe\">\n",
       "  <thead>\n",
       "    <tr style=\"text-align: right;\">\n",
       "      <th></th>\n",
       "      <th></th>\n",
       "      <th>subject</th>\n",
       "      <th>list</th>\n",
       "      <th>item</th>\n",
       "      <th>input</th>\n",
       "      <th>output</th>\n",
       "      <th>study</th>\n",
       "      <th>recall</th>\n",
       "      <th>repeat</th>\n",
       "      <th>intrusion</th>\n",
       "      <th>distractor</th>\n",
       "      <th>item_index</th>\n",
       "      <th>category</th>\n",
       "      <th>Distraction (s)</th>\n",
       "    </tr>\n",
       "    <tr>\n",
       "      <th>source</th>\n",
       "      <th>trial</th>\n",
       "      <th></th>\n",
       "      <th></th>\n",
       "      <th></th>\n",
       "      <th></th>\n",
       "      <th></th>\n",
       "      <th></th>\n",
       "      <th></th>\n",
       "      <th></th>\n",
       "      <th></th>\n",
       "      <th></th>\n",
       "      <th></th>\n",
       "      <th></th>\n",
       "      <th></th>\n",
       "    </tr>\n",
       "  </thead>\n",
       "  <tbody>\n",
       "    <tr>\n",
       "      <th rowspan=\"5\" valign=\"top\">Data</th>\n",
       "      <th>0</th>\n",
       "      <td>201</td>\n",
       "      <td>1</td>\n",
       "      <td>MASCARA</td>\n",
       "      <td>1</td>\n",
       "      <td>&lt;NA&gt;</td>\n",
       "      <td>True</td>\n",
       "      <td>False</td>\n",
       "      <td>0</td>\n",
       "      <td>False</td>\n",
       "      <td>0.0</td>\n",
       "      <td>646</td>\n",
       "      <td>obj</td>\n",
       "      <td>0.0</td>\n",
       "    </tr>\n",
       "    <tr>\n",
       "      <th>1</th>\n",
       "      <td>201</td>\n",
       "      <td>1</td>\n",
       "      <td>GOLF CLUB</td>\n",
       "      <td>2</td>\n",
       "      <td>&lt;NA&gt;</td>\n",
       "      <td>True</td>\n",
       "      <td>False</td>\n",
       "      <td>0</td>\n",
       "      <td>False</td>\n",
       "      <td>0.0</td>\n",
       "      <td>606</td>\n",
       "      <td>obj</td>\n",
       "      <td>0.0</td>\n",
       "    </tr>\n",
       "    <tr>\n",
       "      <th>2</th>\n",
       "      <td>201</td>\n",
       "      <td>1</td>\n",
       "      <td>KEYCHAIN</td>\n",
       "      <td>3</td>\n",
       "      <td>&lt;NA&gt;</td>\n",
       "      <td>True</td>\n",
       "      <td>False</td>\n",
       "      <td>0</td>\n",
       "      <td>False</td>\n",
       "      <td>0.0</td>\n",
       "      <td>626</td>\n",
       "      <td>obj</td>\n",
       "      <td>0.0</td>\n",
       "    </tr>\n",
       "    <tr>\n",
       "      <th>3</th>\n",
       "      <td>201</td>\n",
       "      <td>1</td>\n",
       "      <td>LOS ANGELES</td>\n",
       "      <td>4</td>\n",
       "      <td>&lt;NA&gt;</td>\n",
       "      <td>True</td>\n",
       "      <td>False</td>\n",
       "      <td>0</td>\n",
       "      <td>False</td>\n",
       "      <td>0.0</td>\n",
       "      <td>370</td>\n",
       "      <td>loc</td>\n",
       "      <td>0.0</td>\n",
       "    </tr>\n",
       "    <tr>\n",
       "      <th>4</th>\n",
       "      <td>201</td>\n",
       "      <td>1</td>\n",
       "      <td>GETTYSBURG</td>\n",
       "      <td>5</td>\n",
       "      <td>9</td>\n",
       "      <td>True</td>\n",
       "      <td>True</td>\n",
       "      <td>0</td>\n",
       "      <td>False</td>\n",
       "      <td>0.0</td>\n",
       "      <td>325</td>\n",
       "      <td>loc</td>\n",
       "      <td>0.0</td>\n",
       "    </tr>\n",
       "  </tbody>\n",
       "</table>\n",
       "</div>"
      ],
      "text/plain": [
       "              subject  list         item  input  output  study  recall  \\\n",
       "source trial                                                             \n",
       "Data   0          201     1      MASCARA      1    <NA>   True   False   \n",
       "       1          201     1    GOLF CLUB      2    <NA>   True   False   \n",
       "       2          201     1     KEYCHAIN      3    <NA>   True   False   \n",
       "       3          201     1  LOS ANGELES      4    <NA>   True   False   \n",
       "       4          201     1   GETTYSBURG      5       9   True    True   \n",
       "\n",
       "              repeat  intrusion  distractor  item_index category  \\\n",
       "source trial                                                       \n",
       "Data   0           0      False         0.0         646      obj   \n",
       "       1           0      False         0.0         606      obj   \n",
       "       2           0      False         0.0         626      obj   \n",
       "       3           0      False         0.0         370      loc   \n",
       "       4           0      False         0.0         325      loc   \n",
       "\n",
       "              Distraction (s)  \n",
       "source trial                   \n",
       "Data   0                  0.0  \n",
       "       1                  0.0  \n",
       "       2                  0.0  \n",
       "       3                  0.0  \n",
       "       4                  0.0  "
      ]
     },
     "execution_count": 4,
     "metadata": {},
     "output_type": "execute_result"
    }
   ],
   "source": [
    "models = [\n",
    "    'v1',\n",
    "]\n",
    "model_names = [\n",
    "    'DCMR-Disrupt',\n",
    "]\n",
    "data = framework.read_model_sims(data_file, fit_dir, models, model_names, data_first=True)\n",
    "data['Distraction (s)'] = data['distractor']\n",
    "data.head()"
   ]
  },
  {
   "cell_type": "code",
   "execution_count": 5,
   "id": "e98ac428-4ec1-4531-8133-50e3a614e41c",
   "metadata": {
    "execution": {
     "iopub.execute_input": "2025-06-16T01:59:51.904828Z",
     "iopub.status.busy": "2025-06-16T01:59:51.904747Z",
     "iopub.status.idle": "2025-06-16T01:59:51.907090Z",
     "shell.execute_reply": "2025-06-16T01:59:51.906891Z",
     "shell.execute_reply.started": "2025-06-16T01:59:51.904821Z"
    }
   },
   "outputs": [
    {
     "data": {
      "text/html": [
       "<svg  width=\"165\" height=\"55\"><rect x=\"0\" y=\"0\" width=\"55\" height=\"55\" style=\"fill:#71b08a;stroke-width:2;stroke:rgb(255,255,255)\"/><rect x=\"55\" y=\"0\" width=\"55\" height=\"55\" style=\"fill:#46887b;stroke-width:2;stroke:rgb(255,255,255)\"/><rect x=\"110\" y=\"0\" width=\"55\" height=\"55\" style=\"fill:#2b5865;stroke-width:2;stroke:rgb(255,255,255)\"/></svg>"
      ],
      "text/plain": [
       "[(0.44163916703794076, 0.6914342033666265, 0.5414714890673176),\n",
       " (0.27424883716016524, 0.5352555384607786, 0.4809527643729599),\n",
       " (0.17051215858853222, 0.344636926092434, 0.3959064384004337)]"
      ]
     },
     "execution_count": 5,
     "metadata": {},
     "output_type": "execute_result"
    }
   ],
   "source": [
    "curve = sns.color_palette(\n",
    "    'ch:rot=-.5, light=.6, dark=.3, gamma=1', n_colors=3\n",
    ")\n",
    "curve"
   ]
  },
  {
   "cell_type": "code",
   "execution_count": 6,
   "id": "d8436cdd-dde5-42bf-9882-846e5fbbecc9",
   "metadata": {
    "execution": {
     "iopub.execute_input": "2025-06-16T01:59:51.907385Z",
     "iopub.status.busy": "2025-06-16T01:59:51.907324Z",
     "iopub.status.idle": "2025-06-16T01:59:51.909485Z",
     "shell.execute_reply": "2025-06-16T01:59:51.909273Z",
     "shell.execute_reply.started": "2025-06-16T01:59:51.907379Z"
    }
   },
   "outputs": [
    {
     "data": {
      "text/html": [
       "<svg  width=\"165\" height=\"55\"><rect x=\"0\" y=\"0\" width=\"55\" height=\"55\" style=\"fill:#b9dcbc;stroke-width:2;stroke:rgb(255,255,255)\"/><rect x=\"55\" y=\"0\" width=\"55\" height=\"55\" style=\"fill:#80bda8;stroke-width:2;stroke:rgb(255,255,255)\"/><rect x=\"110\" y=\"0\" width=\"55\" height=\"55\" style=\"fill:#558a99;stroke-width:2;stroke:rgb(255,255,255)\"/></svg>"
      ],
      "text/plain": [
       "[(0.725301473503126, 0.8645990769601404, 0.7363315007817791),\n",
       " (0.5016677447743987, 0.7426793533080586, 0.6602162691374847),\n",
       " (0.33145894574681245, 0.5393097642399239, 0.6005096167923277)]"
      ]
     },
     "execution_count": 6,
     "metadata": {},
     "output_type": "execute_result"
    }
   ],
   "source": [
    "dark = sns.color_palette(\n",
    "    'ch:rot=-.5, light=.7, dark=.3, gamma=.6', n_colors=3\n",
    ")\n",
    "dark"
   ]
  },
  {
   "cell_type": "code",
   "execution_count": 7,
   "id": "ae45f81d-cb77-453a-8c43-226b3517af65",
   "metadata": {
    "execution": {
     "iopub.execute_input": "2025-06-16T01:59:51.909745Z",
     "iopub.status.busy": "2025-06-16T01:59:51.909686Z",
     "iopub.status.idle": "2025-06-16T01:59:51.911737Z",
     "shell.execute_reply": "2025-06-16T01:59:51.911529Z",
     "shell.execute_reply.started": "2025-06-16T01:59:51.909739Z"
    }
   },
   "outputs": [
    {
     "data": {
      "text/html": [
       "<svg  width=\"165\" height=\"55\"><rect x=\"0\" y=\"0\" width=\"55\" height=\"55\" style=\"fill:#e5f3e6;stroke-width:2;stroke:rgb(255,255,255)\"/><rect x=\"55\" y=\"0\" width=\"55\" height=\"55\" style=\"fill:#cae9de;stroke-width:2;stroke:rgb(255,255,255)\"/><rect x=\"110\" y=\"0\" width=\"55\" height=\"55\" style=\"fill:#aed2dc;stroke-width:2;stroke:rgb(255,255,255)\"/></svg>"
      ],
      "text/plain": [
       "[(0.8973525746116884, 0.9546730560357413, 0.901891392639006),\n",
       " (0.7912737188119296, 0.9119907090651371, 0.870686908851388),\n",
       " (0.6820851323976215, 0.8225675908928259, 0.8639314200489312)]"
      ]
     },
     "execution_count": 7,
     "metadata": {},
     "output_type": "execute_result"
    }
   ],
   "source": [
    "light = sns.color_palette(\n",
    "    'ch:rot=-.5, light=.7, dark=.3, gamma=.2', n_colors=3\n",
    ")\n",
    "light"
   ]
  },
  {
   "cell_type": "code",
   "execution_count": 8,
   "id": "f5b92950-30b3-4310-a506-ae4a52361177",
   "metadata": {
    "execution": {
     "iopub.execute_input": "2025-06-16T01:59:51.912015Z",
     "iopub.status.busy": "2025-06-16T01:59:51.911954Z",
     "iopub.status.idle": "2025-06-16T01:59:53.006946Z",
     "shell.execute_reply": "2025-06-16T01:59:53.006636Z",
     "shell.execute_reply.started": "2025-06-16T01:59:51.912009Z"
    }
   },
   "outputs": [
    {
     "name": "stderr",
     "output_type": "stream",
     "text": [
      "/var/folders/4k/wss4rkc16j70t_mk8f3vf7300000gn/T/ipykernel_21509/1702233231.py:1: DeprecationWarning: DataFrameGroupBy.apply operated on the grouping columns. This behavior is deprecated, and in a future version of pandas the grouping columns will be excluded from the operation. Either pass `include_groups=False` to exclude the groupings or explicitly select the grouping columns after groupby to silence this warning.\n",
      "  spc = data.groupby(['source', 'Distraction (s)'], sort=False).apply(fr.spc)\n",
      "LINO NOT subset; don't know how to subset; dropped\n",
      "LINO NOT subset; don't know how to subset; dropped\n"
     ]
    }
   ],
   "source": [
    "spc = data.groupby(['source', 'Distraction (s)'], sort=False).apply(fr.spc)\n",
    "g = fr.plot_spc(spc, hue='Distraction (s)', col='source', palette=curve, height=5).add_legend().set_titles('{col_name}')\n",
    "g.savefig(fig_dir / 'spc.pdf')"
   ]
  },
  {
   "cell_type": "code",
   "execution_count": 9,
   "id": "cc4db55b-2508-414c-9b64-40e4808b5086",
   "metadata": {
    "execution": {
     "iopub.execute_input": "2025-06-16T01:59:53.007446Z",
     "iopub.status.busy": "2025-06-16T01:59:53.007296Z",
     "iopub.status.idle": "2025-06-16T01:59:55.045444Z",
     "shell.execute_reply": "2025-06-16T01:59:55.045141Z",
     "shell.execute_reply.started": "2025-06-16T01:59:53.007439Z"
    }
   },
   "outputs": [
    {
     "name": "stderr",
     "output_type": "stream",
     "text": [
      "/var/folders/4k/wss4rkc16j70t_mk8f3vf7300000gn/T/ipykernel_21509/23851514.py:1: DeprecationWarning: DataFrameGroupBy.apply operated on the grouping columns. This behavior is deprecated, and in a future version of pandas the grouping columns will be excluded from the operation. Either pass `include_groups=False` to exclude the groupings or explicitly select the grouping columns after groupby to silence this warning.\n",
      "  pfr = data.groupby(['source', 'Distraction (s)'], sort=False).apply(fr.pnr).query('output == 1')\n",
      "LINO NOT subset; don't know how to subset; dropped\n",
      "LINO NOT subset; don't know how to subset; dropped\n"
     ]
    }
   ],
   "source": [
    "pfr = data.groupby(['source', 'Distraction (s)'], sort=False).apply(fr.pnr).query('output == 1')\n",
    "g = fr.plot_spc(pfr, hue='Distraction (s)', col='source', palette=curve, height=5).add_legend().set_titles('{col_name}')\n",
    "g.savefig(fig_dir / 'pfr.pdf')"
   ]
  },
  {
   "cell_type": "code",
   "execution_count": 10,
   "id": "3d844930-38ac-4e5a-b710-6be93d9e9e8c",
   "metadata": {
    "execution": {
     "iopub.execute_input": "2025-06-16T01:59:55.045978Z",
     "iopub.status.busy": "2025-06-16T01:59:55.045891Z",
     "iopub.status.idle": "2025-06-16T01:59:55.047788Z",
     "shell.execute_reply": "2025-06-16T01:59:55.047557Z",
     "shell.execute_reply.started": "2025-06-16T01:59:55.045969Z"
    }
   },
   "outputs": [],
   "source": [
    "kwargs = {'dark': dark, 'light': light, 'point_kws': {'size': 5}}"
   ]
  },
  {
   "cell_type": "code",
   "execution_count": 11,
   "id": "728c4c30-06e5-4ddf-9b4a-dc8ddc4920f9",
   "metadata": {
    "execution": {
     "iopub.execute_input": "2025-06-16T01:59:55.048205Z",
     "iopub.status.busy": "2025-06-16T01:59:55.048132Z",
     "iopub.status.idle": "2025-06-16T01:59:56.190991Z",
     "shell.execute_reply": "2025-06-16T01:59:56.190696Z",
     "shell.execute_reply.started": "2025-06-16T01:59:55.048199Z"
    }
   },
   "outputs": [
    {
     "name": "stderr",
     "output_type": "stream",
     "text": [
      "/var/folders/4k/wss4rkc16j70t_mk8f3vf7300000gn/T/ipykernel_21509/1582668125.py:1: DeprecationWarning: DataFrameGroupBy.apply operated on the grouping columns. This behavior is deprecated, and in a future version of pandas the grouping columns will be excluded from the operation. Either pass `include_groups=False` to exclude the groupings or explicitly select the grouping columns after groupby to silence this warning.\n",
      "  clust = data.groupby(['source', 'distractor']).apply(fr.category_clustering, category_key='category')\n"
     ]
    },
    {
     "data": {
      "text/html": [
       "<div>\n",
       "<style scoped>\n",
       "    .dataframe tbody tr th:only-of-type {\n",
       "        vertical-align: middle;\n",
       "    }\n",
       "\n",
       "    .dataframe tbody tr th {\n",
       "        vertical-align: top;\n",
       "    }\n",
       "\n",
       "    .dataframe thead tr th {\n",
       "        text-align: left;\n",
       "    }\n",
       "\n",
       "    .dataframe thead tr:last-of-type th {\n",
       "        text-align: right;\n",
       "    }\n",
       "</style>\n",
       "<table border=\"1\" class=\"dataframe\">\n",
       "  <thead>\n",
       "    <tr>\n",
       "      <th></th>\n",
       "      <th></th>\n",
       "      <th colspan=\"2\" halign=\"left\">subject</th>\n",
       "      <th colspan=\"2\" halign=\"left\">lbc</th>\n",
       "      <th colspan=\"2\" halign=\"left\">arc</th>\n",
       "    </tr>\n",
       "    <tr>\n",
       "      <th></th>\n",
       "      <th></th>\n",
       "      <th>mean</th>\n",
       "      <th>sem</th>\n",
       "      <th>mean</th>\n",
       "      <th>sem</th>\n",
       "      <th>mean</th>\n",
       "      <th>sem</th>\n",
       "    </tr>\n",
       "    <tr>\n",
       "      <th>source</th>\n",
       "      <th>distractor</th>\n",
       "      <th></th>\n",
       "      <th></th>\n",
       "      <th></th>\n",
       "      <th></th>\n",
       "      <th></th>\n",
       "      <th></th>\n",
       "    </tr>\n",
       "  </thead>\n",
       "  <tbody>\n",
       "    <tr>\n",
       "      <th rowspan=\"3\" valign=\"top\">DCMR-Disrupt</th>\n",
       "      <th>0.0</th>\n",
       "      <td>205.9</td>\n",
       "      <td>1.1</td>\n",
       "      <td>2.028319</td>\n",
       "      <td>0.145603</td>\n",
       "      <td>0.463912</td>\n",
       "      <td>0.018175</td>\n",
       "    </tr>\n",
       "    <tr>\n",
       "      <th>2.5</th>\n",
       "      <td>205.9</td>\n",
       "      <td>1.1</td>\n",
       "      <td>1.474628</td>\n",
       "      <td>0.130932</td>\n",
       "      <td>0.410032</td>\n",
       "      <td>0.029988</td>\n",
       "    </tr>\n",
       "    <tr>\n",
       "      <th>7.5</th>\n",
       "      <td>205.9</td>\n",
       "      <td>1.1</td>\n",
       "      <td>1.348290</td>\n",
       "      <td>0.117578</td>\n",
       "      <td>0.396589</td>\n",
       "      <td>0.030418</td>\n",
       "    </tr>\n",
       "    <tr>\n",
       "      <th rowspan=\"3\" valign=\"top\">Data</th>\n",
       "      <th>0.0</th>\n",
       "      <td>205.9</td>\n",
       "      <td>1.1</td>\n",
       "      <td>2.180676</td>\n",
       "      <td>0.138734</td>\n",
       "      <td>0.531257</td>\n",
       "      <td>0.027473</td>\n",
       "    </tr>\n",
       "    <tr>\n",
       "      <th>2.5</th>\n",
       "      <td>205.9</td>\n",
       "      <td>1.1</td>\n",
       "      <td>1.422464</td>\n",
       "      <td>0.145531</td>\n",
       "      <td>0.408586</td>\n",
       "      <td>0.049215</td>\n",
       "    </tr>\n",
       "    <tr>\n",
       "      <th>7.5</th>\n",
       "      <td>205.9</td>\n",
       "      <td>1.1</td>\n",
       "      <td>1.465459</td>\n",
       "      <td>0.164687</td>\n",
       "      <td>0.495812</td>\n",
       "      <td>0.042237</td>\n",
       "    </tr>\n",
       "  </tbody>\n",
       "</table>\n",
       "</div>"
      ],
      "text/plain": [
       "                        subject            lbc                 arc          \n",
       "                           mean  sem      mean       sem      mean       sem\n",
       "source       distractor                                                     \n",
       "DCMR-Disrupt 0.0          205.9  1.1  2.028319  0.145603  0.463912  0.018175\n",
       "             2.5          205.9  1.1  1.474628  0.130932  0.410032  0.029988\n",
       "             7.5          205.9  1.1  1.348290  0.117578  0.396589  0.030418\n",
       "Data         0.0          205.9  1.1  2.180676  0.138734  0.531257  0.027473\n",
       "             2.5          205.9  1.1  1.422464  0.145531  0.408586  0.049215\n",
       "             7.5          205.9  1.1  1.465459  0.164687  0.495812  0.042237"
      ]
     },
     "execution_count": 11,
     "metadata": {},
     "output_type": "execute_result"
    }
   ],
   "source": [
    "clust = data.groupby(['source', 'distractor']).apply(fr.category_clustering, category_key='category')\n",
    "clust.groupby(['source', 'distractor']).agg(['mean', 'sem'])"
   ]
  },
  {
   "cell_type": "code",
   "execution_count": 12,
   "id": "14655283-5dca-4435-bd4c-8f96e30c1325",
   "metadata": {
    "execution": {
     "iopub.execute_input": "2025-06-16T01:59:56.192976Z",
     "iopub.status.busy": "2025-06-16T01:59:56.192839Z",
     "iopub.status.idle": "2025-06-16T01:59:56.367402Z",
     "shell.execute_reply": "2025-06-16T01:59:56.367149Z",
     "shell.execute_reply.started": "2025-06-16T01:59:56.192963Z"
    }
   },
   "outputs": [
    {
     "name": "stderr",
     "output_type": "stream",
     "text": [
      "LINO NOT subset; don't know how to subset; dropped\n",
      "LINO NOT subset; don't know how to subset; dropped\n"
     ]
    }
   ],
   "source": [
    "fig, ax = plt.subplots(1, 2, figsize=(8, 4), sharey=True)\n",
    "sb.plot_swarm_bar(clust.loc['Data'], x='distractor', y='lbc', hue='distractor', legend=False, ax=ax[0], **kwargs);\n",
    "ax[0].set_ylabel('LBC')\n",
    "ax[0].set_ylim(0, 3)\n",
    "ax[0].set_xlabel('Distraction (s)')\n",
    "ax[0].set_title('Data')\n",
    "ax[0].tick_params(axis='x', labelsize='small')\n",
    "sb.plot_swarm_bar(clust.loc['DCMR-Disrupt'], x='distractor', y='lbc', hue='distractor', legend=False, ax=ax[1], **kwargs);\n",
    "ax[1].set_xlabel('Distraction (s)')\n",
    "ax[1].set_title('DCMR-Disrupt')\n",
    "ax[1].tick_params(axis='x', labelsize='small')\n",
    "fig.savefig(fig_dir / 'lbc.pdf')"
   ]
  },
  {
   "cell_type": "code",
   "execution_count": 13,
   "id": "100b3413-fe69-4edd-8115-85f6850d0232",
   "metadata": {
    "execution": {
     "iopub.execute_input": "2025-06-16T01:59:56.367869Z",
     "iopub.status.busy": "2025-06-16T01:59:56.367798Z",
     "iopub.status.idle": "2025-06-16T02:00:00.121119Z",
     "shell.execute_reply": "2025-06-16T02:00:00.120891Z",
     "shell.execute_reply.started": "2025-06-16T01:59:56.367861Z"
    }
   },
   "outputs": [
    {
     "name": "stderr",
     "output_type": "stream",
     "text": [
      "/var/folders/4k/wss4rkc16j70t_mk8f3vf7300000gn/T/ipykernel_21509/1277313943.py:1: DeprecationWarning: DataFrameGroupBy.apply operated on the grouping columns. This behavior is deprecated, and in a future version of pandas the grouping columns will be excluded from the operation. Either pass `include_groups=False` to exclude the groupings or explicitly select the grouping columns after groupby to silence this warning.\n",
      "  temp = data.groupby(['source', 'distractor']).apply(fr.lag_rank, test_key='category', test=lambda x, y: x == y)\n"
     ]
    },
    {
     "data": {
      "text/html": [
       "<div>\n",
       "<style scoped>\n",
       "    .dataframe tbody tr th:only-of-type {\n",
       "        vertical-align: middle;\n",
       "    }\n",
       "\n",
       "    .dataframe tbody tr th {\n",
       "        vertical-align: top;\n",
       "    }\n",
       "\n",
       "    .dataframe thead tr th {\n",
       "        text-align: left;\n",
       "    }\n",
       "\n",
       "    .dataframe thead tr:last-of-type th {\n",
       "        text-align: right;\n",
       "    }\n",
       "</style>\n",
       "<table border=\"1\" class=\"dataframe\">\n",
       "  <thead>\n",
       "    <tr>\n",
       "      <th></th>\n",
       "      <th></th>\n",
       "      <th colspan=\"2\" halign=\"left\">subject</th>\n",
       "      <th colspan=\"2\" halign=\"left\">rank</th>\n",
       "    </tr>\n",
       "    <tr>\n",
       "      <th></th>\n",
       "      <th></th>\n",
       "      <th>mean</th>\n",
       "      <th>sem</th>\n",
       "      <th>mean</th>\n",
       "      <th>sem</th>\n",
       "    </tr>\n",
       "    <tr>\n",
       "      <th>source</th>\n",
       "      <th>distractor</th>\n",
       "      <th></th>\n",
       "      <th></th>\n",
       "      <th></th>\n",
       "      <th></th>\n",
       "    </tr>\n",
       "  </thead>\n",
       "  <tbody>\n",
       "    <tr>\n",
       "      <th rowspan=\"3\" valign=\"top\">DCMR-Disrupt</th>\n",
       "      <th>0.0</th>\n",
       "      <td>205.9</td>\n",
       "      <td>1.1</td>\n",
       "      <td>0.661610</td>\n",
       "      <td>0.004874</td>\n",
       "    </tr>\n",
       "    <tr>\n",
       "      <th>2.5</th>\n",
       "      <td>205.9</td>\n",
       "      <td>1.1</td>\n",
       "      <td>0.669681</td>\n",
       "      <td>0.012261</td>\n",
       "    </tr>\n",
       "    <tr>\n",
       "      <th>7.5</th>\n",
       "      <td>205.9</td>\n",
       "      <td>1.1</td>\n",
       "      <td>0.658806</td>\n",
       "      <td>0.012077</td>\n",
       "    </tr>\n",
       "    <tr>\n",
       "      <th rowspan=\"3\" valign=\"top\">Data</th>\n",
       "      <th>0.0</th>\n",
       "      <td>205.9</td>\n",
       "      <td>1.1</td>\n",
       "      <td>0.676020</td>\n",
       "      <td>0.008431</td>\n",
       "    </tr>\n",
       "    <tr>\n",
       "      <th>2.5</th>\n",
       "      <td>205.9</td>\n",
       "      <td>1.1</td>\n",
       "      <td>0.664947</td>\n",
       "      <td>0.023335</td>\n",
       "    </tr>\n",
       "    <tr>\n",
       "      <th>7.5</th>\n",
       "      <td>205.9</td>\n",
       "      <td>1.1</td>\n",
       "      <td>0.679256</td>\n",
       "      <td>0.014973</td>\n",
       "    </tr>\n",
       "  </tbody>\n",
       "</table>\n",
       "</div>"
      ],
      "text/plain": [
       "                        subject           rank          \n",
       "                           mean  sem      mean       sem\n",
       "source       distractor                                 \n",
       "DCMR-Disrupt 0.0          205.9  1.1  0.661610  0.004874\n",
       "             2.5          205.9  1.1  0.669681  0.012261\n",
       "             7.5          205.9  1.1  0.658806  0.012077\n",
       "Data         0.0          205.9  1.1  0.676020  0.008431\n",
       "             2.5          205.9  1.1  0.664947  0.023335\n",
       "             7.5          205.9  1.1  0.679256  0.014973"
      ]
     },
     "execution_count": 13,
     "metadata": {},
     "output_type": "execute_result"
    }
   ],
   "source": [
    "temp = data.groupby(['source', 'distractor']).apply(fr.lag_rank, test_key='category', test=lambda x, y: x == y)\n",
    "temp.groupby(['source', 'distractor']).agg(['mean', 'sem'])"
   ]
  },
  {
   "cell_type": "code",
   "execution_count": 14,
   "id": "7b482995-6db5-4b6b-8f9e-9d69a4f16afb",
   "metadata": {
    "execution": {
     "iopub.execute_input": "2025-06-16T02:00:00.121556Z",
     "iopub.status.busy": "2025-06-16T02:00:00.121475Z",
     "iopub.status.idle": "2025-06-16T02:00:00.128802Z",
     "shell.execute_reply": "2025-06-16T02:00:00.128512Z",
     "shell.execute_reply.started": "2025-06-16T02:00:00.121549Z"
    }
   },
   "outputs": [
    {
     "data": {
      "text/html": [
       "<div>\n",
       "<style scoped>\n",
       "    .dataframe tbody tr th:only-of-type {\n",
       "        vertical-align: middle;\n",
       "    }\n",
       "\n",
       "    .dataframe tbody tr th {\n",
       "        vertical-align: top;\n",
       "    }\n",
       "\n",
       "    .dataframe thead th {\n",
       "        text-align: right;\n",
       "    }\n",
       "</style>\n",
       "<table border=\"1\" class=\"dataframe\">\n",
       "  <thead>\n",
       "    <tr style=\"text-align: right;\">\n",
       "      <th></th>\n",
       "      <th>T</th>\n",
       "      <th>dof</th>\n",
       "      <th>alternative</th>\n",
       "      <th>p-val</th>\n",
       "      <th>CI95%</th>\n",
       "      <th>cohen-d</th>\n",
       "      <th>BF10</th>\n",
       "      <th>power</th>\n",
       "    </tr>\n",
       "  </thead>\n",
       "  <tbody>\n",
       "    <tr>\n",
       "      <th>T-test</th>\n",
       "      <td>4.176331</td>\n",
       "      <td>9</td>\n",
       "      <td>two-sided</td>\n",
       "      <td>0.002389</td>\n",
       "      <td>[0.35, 1.17]</td>\n",
       "      <td>1.686451</td>\n",
       "      <td>19.854</td>\n",
       "      <td>0.996984</td>\n",
       "    </tr>\n",
       "  </tbody>\n",
       "</table>\n",
       "</div>"
      ],
      "text/plain": [
       "               T  dof alternative     p-val         CI95%   cohen-d    BF10  \\\n",
       "T-test  4.176331    9   two-sided  0.002389  [0.35, 1.17]  1.686451  19.854   \n",
       "\n",
       "           power  \n",
       "T-test  0.996984  "
      ]
     },
     "execution_count": 14,
     "metadata": {},
     "output_type": "execute_result"
    }
   ],
   "source": [
    "p = clust.loc['Data', 'lbc'].unstack().T\n",
    "pg.ttest(p[0.0], p[2.5], paired=True)"
   ]
  },
  {
   "cell_type": "code",
   "execution_count": 15,
   "id": "fbaad125-1e71-485d-ad78-7f39e3066d3d",
   "metadata": {
    "execution": {
     "iopub.execute_input": "2025-06-16T02:00:00.129186Z",
     "iopub.status.busy": "2025-06-16T02:00:00.129114Z",
     "iopub.status.idle": "2025-06-16T02:00:00.134904Z",
     "shell.execute_reply": "2025-06-16T02:00:00.134632Z",
     "shell.execute_reply.started": "2025-06-16T02:00:00.129179Z"
    }
   },
   "outputs": [
    {
     "data": {
      "text/html": [
       "<div>\n",
       "<style scoped>\n",
       "    .dataframe tbody tr th:only-of-type {\n",
       "        vertical-align: middle;\n",
       "    }\n",
       "\n",
       "    .dataframe tbody tr th {\n",
       "        vertical-align: top;\n",
       "    }\n",
       "\n",
       "    .dataframe thead th {\n",
       "        text-align: right;\n",
       "    }\n",
       "</style>\n",
       "<table border=\"1\" class=\"dataframe\">\n",
       "  <thead>\n",
       "    <tr style=\"text-align: right;\">\n",
       "      <th></th>\n",
       "      <th>T</th>\n",
       "      <th>dof</th>\n",
       "      <th>alternative</th>\n",
       "      <th>p-val</th>\n",
       "      <th>CI95%</th>\n",
       "      <th>cohen-d</th>\n",
       "      <th>BF10</th>\n",
       "      <th>power</th>\n",
       "    </tr>\n",
       "  </thead>\n",
       "  <tbody>\n",
       "    <tr>\n",
       "      <th>T-test</th>\n",
       "      <td>4.103368</td>\n",
       "      <td>9</td>\n",
       "      <td>two-sided</td>\n",
       "      <td>0.002663</td>\n",
       "      <td>[0.25, 0.86]</td>\n",
       "      <td>1.264549</td>\n",
       "      <td>18.156</td>\n",
       "      <td>0.943605</td>\n",
       "    </tr>\n",
       "  </tbody>\n",
       "</table>\n",
       "</div>"
      ],
      "text/plain": [
       "               T  dof alternative     p-val         CI95%   cohen-d    BF10  \\\n",
       "T-test  4.103368    9   two-sided  0.002663  [0.25, 0.86]  1.264549  18.156   \n",
       "\n",
       "           power  \n",
       "T-test  0.943605  "
      ]
     },
     "execution_count": 15,
     "metadata": {},
     "output_type": "execute_result"
    }
   ],
   "source": [
    "p = clust.loc['DCMR-Disrupt', 'lbc'].unstack().T\n",
    "pg.ttest(p[0.0], p[2.5], paired=True)"
   ]
  },
  {
   "cell_type": "code",
   "execution_count": 16,
   "id": "06cc68a8-9522-4b16-88d9-653a44ba9f50",
   "metadata": {
    "execution": {
     "iopub.execute_input": "2025-06-16T02:00:00.135254Z",
     "iopub.status.busy": "2025-06-16T02:00:00.135191Z",
     "iopub.status.idle": "2025-06-16T02:00:00.312272Z",
     "shell.execute_reply": "2025-06-16T02:00:00.311985Z",
     "shell.execute_reply.started": "2025-06-16T02:00:00.135248Z"
    }
   },
   "outputs": [
    {
     "name": "stderr",
     "output_type": "stream",
     "text": [
      "LINO NOT subset; don't know how to subset; dropped\n",
      "LINO NOT subset; don't know how to subset; dropped\n"
     ]
    }
   ],
   "source": [
    "fig, ax = plt.subplots(1, 2, figsize=(8, 4), sharey=True)\n",
    "sb.plot_swarm_bar(temp.loc['Data'], x='distractor', y='rank', hue='distractor', legend=False, ax=ax[0], **kwargs);\n",
    "ax[0].set_ylabel('Temporal clustering')\n",
    "ax[0].set_xlabel('Distraction (s)')\n",
    "ax[0].set_title('Data')\n",
    "ax[0].tick_params(axis='x', labelsize='small')\n",
    "ax[0].set_ylim(0, 1)\n",
    "sb.plot_swarm_bar(temp.loc['DCMR-Disrupt'], x='distractor', y='rank', hue='distractor', legend=False, ax=ax[1], **kwargs);\n",
    "ax[1].set_xlabel('Distraction (s)')\n",
    "ax[1].set_title('DCMR-Disrupt')\n",
    "ax[1].tick_params(axis='x', labelsize='small')\n",
    "fig.savefig(fig_dir / 'tempclust.pdf')"
   ]
  },
  {
   "cell_type": "code",
   "execution_count": 17,
   "id": "a239229e-a575-4380-aea8-ebcdf5aea64a",
   "metadata": {
    "execution": {
     "iopub.execute_input": "2025-06-16T02:00:00.312807Z",
     "iopub.status.busy": "2025-06-16T02:00:00.312727Z",
     "iopub.status.idle": "2025-06-16T02:00:00.319268Z",
     "shell.execute_reply": "2025-06-16T02:00:00.318973Z",
     "shell.execute_reply.started": "2025-06-16T02:00:00.312800Z"
    }
   },
   "outputs": [
    {
     "data": {
      "text/html": [
       "<div>\n",
       "<style scoped>\n",
       "    .dataframe tbody tr th:only-of-type {\n",
       "        vertical-align: middle;\n",
       "    }\n",
       "\n",
       "    .dataframe tbody tr th {\n",
       "        vertical-align: top;\n",
       "    }\n",
       "\n",
       "    .dataframe thead th {\n",
       "        text-align: right;\n",
       "    }\n",
       "</style>\n",
       "<table border=\"1\" class=\"dataframe\">\n",
       "  <thead>\n",
       "    <tr style=\"text-align: right;\">\n",
       "      <th></th>\n",
       "      <th>T</th>\n",
       "      <th>dof</th>\n",
       "      <th>alternative</th>\n",
       "      <th>p-val</th>\n",
       "      <th>CI95%</th>\n",
       "      <th>cohen-d</th>\n",
       "      <th>BF10</th>\n",
       "      <th>power</th>\n",
       "    </tr>\n",
       "  </thead>\n",
       "  <tbody>\n",
       "    <tr>\n",
       "      <th>T-test</th>\n",
       "      <td>0.491749</td>\n",
       "      <td>9</td>\n",
       "      <td>two-sided</td>\n",
       "      <td>0.634668</td>\n",
       "      <td>[-0.04, 0.06]</td>\n",
       "      <td>0.199598</td>\n",
       "      <td>0.342</td>\n",
       "      <td>0.087504</td>\n",
       "    </tr>\n",
       "  </tbody>\n",
       "</table>\n",
       "</div>"
      ],
      "text/plain": [
       "               T  dof alternative     p-val          CI95%   cohen-d   BF10  \\\n",
       "T-test  0.491749    9   two-sided  0.634668  [-0.04, 0.06]  0.199598  0.342   \n",
       "\n",
       "           power  \n",
       "T-test  0.087504  "
      ]
     },
     "execution_count": 17,
     "metadata": {},
     "output_type": "execute_result"
    }
   ],
   "source": [
    "p = temp.loc['Data', 'rank'].unstack().T\n",
    "pg.ttest(p[0.0], p[2.5], paired=True)"
   ]
  },
  {
   "cell_type": "code",
   "execution_count": 18,
   "id": "225171f8-29e6-44c3-a821-86b5dcc088dc",
   "metadata": {
    "execution": {
     "iopub.execute_input": "2025-06-16T02:00:00.319773Z",
     "iopub.status.busy": "2025-06-16T02:00:00.319688Z",
     "iopub.status.idle": "2025-06-16T02:00:00.325345Z",
     "shell.execute_reply": "2025-06-16T02:00:00.325121Z",
     "shell.execute_reply.started": "2025-06-16T02:00:00.319766Z"
    }
   },
   "outputs": [
    {
     "data": {
      "text/html": [
       "<div>\n",
       "<style scoped>\n",
       "    .dataframe tbody tr th:only-of-type {\n",
       "        vertical-align: middle;\n",
       "    }\n",
       "\n",
       "    .dataframe tbody tr th {\n",
       "        vertical-align: top;\n",
       "    }\n",
       "\n",
       "    .dataframe thead th {\n",
       "        text-align: right;\n",
       "    }\n",
       "</style>\n",
       "<table border=\"1\" class=\"dataframe\">\n",
       "  <thead>\n",
       "    <tr style=\"text-align: right;\">\n",
       "      <th></th>\n",
       "      <th>T</th>\n",
       "      <th>dof</th>\n",
       "      <th>alternative</th>\n",
       "      <th>p-val</th>\n",
       "      <th>CI95%</th>\n",
       "      <th>cohen-d</th>\n",
       "      <th>BF10</th>\n",
       "      <th>power</th>\n",
       "    </tr>\n",
       "  </thead>\n",
       "  <tbody>\n",
       "    <tr>\n",
       "      <th>T-test</th>\n",
       "      <td>-0.644432</td>\n",
       "      <td>9</td>\n",
       "      <td>two-sided</td>\n",
       "      <td>0.535373</td>\n",
       "      <td>[-0.04, 0.02]</td>\n",
       "      <td>0.273546</td>\n",
       "      <td>0.368</td>\n",
       "      <td>0.121307</td>\n",
       "    </tr>\n",
       "  </tbody>\n",
       "</table>\n",
       "</div>"
      ],
      "text/plain": [
       "               T  dof alternative     p-val          CI95%   cohen-d   BF10  \\\n",
       "T-test -0.644432    9   two-sided  0.535373  [-0.04, 0.02]  0.273546  0.368   \n",
       "\n",
       "           power  \n",
       "T-test  0.121307  "
      ]
     },
     "execution_count": 18,
     "metadata": {},
     "output_type": "execute_result"
    }
   ],
   "source": [
    "p = temp.loc['DCMR-Disrupt', 'rank'].unstack().T\n",
    "pg.ttest(p[0.0], p[2.5], paired=True)"
   ]
  },
  {
   "cell_type": "code",
   "execution_count": 19,
   "id": "8b669560-353c-43a8-8369-2528b44fd2d2",
   "metadata": {
    "execution": {
     "iopub.execute_input": "2025-06-16T02:00:00.325936Z",
     "iopub.status.busy": "2025-06-16T02:00:00.325732Z",
     "iopub.status.idle": "2025-06-16T02:00:00.366774Z",
     "shell.execute_reply": "2025-06-16T02:00:00.366529Z",
     "shell.execute_reply.started": "2025-06-16T02:00:00.325927Z"
    }
   },
   "outputs": [
    {
     "data": {
      "text/html": [
       "<div>\n",
       "<style scoped>\n",
       "    .dataframe tbody tr th:only-of-type {\n",
       "        vertical-align: middle;\n",
       "    }\n",
       "\n",
       "    .dataframe tbody tr th {\n",
       "        vertical-align: top;\n",
       "    }\n",
       "\n",
       "    .dataframe thead th {\n",
       "        text-align: right;\n",
       "    }\n",
       "</style>\n",
       "<table border=\"1\" class=\"dataframe\">\n",
       "  <thead>\n",
       "    <tr style=\"text-align: right;\">\n",
       "      <th></th>\n",
       "      <th>DCMR-Disrupt</th>\n",
       "    </tr>\n",
       "  </thead>\n",
       "  <tbody>\n",
       "    <tr>\n",
       "      <th>$\\phi_s$</th>\n",
       "      <td>0.05 (0.01)</td>\n",
       "    </tr>\n",
       "    <tr>\n",
       "      <th>$\\phi_d$</th>\n",
       "      <td>2.03 (0.59)</td>\n",
       "    </tr>\n",
       "    <tr>\n",
       "      <th>$\\beta_{\\mathrm{enc},I}$</th>\n",
       "      <td>0.56 (0.02)</td>\n",
       "    </tr>\n",
       "    <tr>\n",
       "      <th>$\\beta_{\\mathrm{enc},C}$</th>\n",
       "      <td>0.08 (0.04)</td>\n",
       "    </tr>\n",
       "    <tr>\n",
       "      <th>$\\beta_{\\mathrm{enc},D}$</th>\n",
       "      <td>0.48 (0.12)</td>\n",
       "    </tr>\n",
       "    <tr>\n",
       "      <th>$\\beta_{\\mathrm{rec},I}$</th>\n",
       "      <td>0.67 (0.02)</td>\n",
       "    </tr>\n",
       "    <tr>\n",
       "      <th>$w_1$</th>\n",
       "      <td>0.85 (0.03)</td>\n",
       "    </tr>\n",
       "    <tr>\n",
       "      <th>$w_2$</th>\n",
       "      <td>0.15 (0.03)</td>\n",
       "    </tr>\n",
       "    <tr>\n",
       "      <th>$\\beta_{\\mathrm{disrupt}}$</th>\n",
       "      <td>0.48 (0.14)</td>\n",
       "    </tr>\n",
       "    <tr>\n",
       "      <th>$\\beta_{\\mathrm{start},\\mathrm{0 s}}$</th>\n",
       "      <td>0.45 (0.12)</td>\n",
       "    </tr>\n",
       "    <tr>\n",
       "      <th>$\\beta_{\\mathrm{start},\\mathrm{2.5 s}}$</th>\n",
       "      <td>0.36 (0.11)</td>\n",
       "    </tr>\n",
       "    <tr>\n",
       "      <th>$\\beta_{\\mathrm{start},\\mathrm{7.5 s}}$</th>\n",
       "      <td>0.45 (0.13)</td>\n",
       "    </tr>\n",
       "    <tr>\n",
       "      <th>$\\theta_{s,\\mathrm{0 s}}$</th>\n",
       "      <td>0.01 (0.00)</td>\n",
       "    </tr>\n",
       "    <tr>\n",
       "      <th>$\\theta_{s,\\mathrm{2.5 s}}$</th>\n",
       "      <td>0.02 (0.00)</td>\n",
       "    </tr>\n",
       "    <tr>\n",
       "      <th>$\\theta_{s,\\mathrm{7.5 s}}$</th>\n",
       "      <td>0.02 (0.00)</td>\n",
       "    </tr>\n",
       "    <tr>\n",
       "      <th>$\\theta_{r,\\mathrm{0 s}}$</th>\n",
       "      <td>0.38 (0.02)</td>\n",
       "    </tr>\n",
       "    <tr>\n",
       "      <th>$\\theta_{r,\\mathrm{2.5 s}}$</th>\n",
       "      <td>0.37 (0.03)</td>\n",
       "    </tr>\n",
       "    <tr>\n",
       "      <th>$\\theta_{r,\\mathrm{7.5 s}}$</th>\n",
       "      <td>0.38 (0.03)</td>\n",
       "    </tr>\n",
       "    <tr>\n",
       "      <th>$L_{FC,I}$</th>\n",
       "      <td>0.03 (0.01)</td>\n",
       "    </tr>\n",
       "    <tr>\n",
       "      <th>$L_{FC,C}$</th>\n",
       "      <td>0.38 (0.11)</td>\n",
       "    </tr>\n",
       "    <tr>\n",
       "      <th>$L_{FC,D}$</th>\n",
       "      <td>0.88 (0.04)</td>\n",
       "    </tr>\n",
       "    <tr>\n",
       "      <th>$L_{CF,I}$</th>\n",
       "      <td>0.02 (0.01)</td>\n",
       "    </tr>\n",
       "    <tr>\n",
       "      <th>$L_{CF,C}$</th>\n",
       "      <td>0.75 (0.08)</td>\n",
       "    </tr>\n",
       "    <tr>\n",
       "      <th>$L_{CF,D}$</th>\n",
       "      <td>0.58 (0.13)</td>\n",
       "    </tr>\n",
       "    <tr>\n",
       "      <th>$\\beta_{\\mathrm{distract},I}$</th>\n",
       "      <td>0.00 (0.00)</td>\n",
       "    </tr>\n",
       "    <tr>\n",
       "      <th>$\\beta_{\\mathrm{distract},C}$</th>\n",
       "      <td>0.43 (0.07)</td>\n",
       "    </tr>\n",
       "    <tr>\n",
       "      <th>$\\beta_{\\mathrm{distract},D}$</th>\n",
       "      <td>0.29 (0.07)</td>\n",
       "    </tr>\n",
       "  </tbody>\n",
       "</table>\n",
       "</div>"
      ],
      "text/plain": [
       "                                        DCMR-Disrupt\n",
       "$\\phi_s$                                 0.05 (0.01)\n",
       "$\\phi_d$                                 2.03 (0.59)\n",
       "$\\beta_{\\mathrm{enc},I}$                 0.56 (0.02)\n",
       "$\\beta_{\\mathrm{enc},C}$                 0.08 (0.04)\n",
       "$\\beta_{\\mathrm{enc},D}$                 0.48 (0.12)\n",
       "$\\beta_{\\mathrm{rec},I}$                 0.67 (0.02)\n",
       "$w_1$                                    0.85 (0.03)\n",
       "$w_2$                                    0.15 (0.03)\n",
       "$\\beta_{\\mathrm{disrupt}}$               0.48 (0.14)\n",
       "$\\beta_{\\mathrm{start},\\mathrm{0 s}}$    0.45 (0.12)\n",
       "$\\beta_{\\mathrm{start},\\mathrm{2.5 s}}$  0.36 (0.11)\n",
       "$\\beta_{\\mathrm{start},\\mathrm{7.5 s}}$  0.45 (0.13)\n",
       "$\\theta_{s,\\mathrm{0 s}}$                0.01 (0.00)\n",
       "$\\theta_{s,\\mathrm{2.5 s}}$              0.02 (0.00)\n",
       "$\\theta_{s,\\mathrm{7.5 s}}$              0.02 (0.00)\n",
       "$\\theta_{r,\\mathrm{0 s}}$                0.38 (0.02)\n",
       "$\\theta_{r,\\mathrm{2.5 s}}$              0.37 (0.03)\n",
       "$\\theta_{r,\\mathrm{7.5 s}}$              0.38 (0.03)\n",
       "$L_{FC,I}$                               0.03 (0.01)\n",
       "$L_{FC,C}$                               0.38 (0.11)\n",
       "$L_{FC,D}$                               0.88 (0.04)\n",
       "$L_{CF,I}$                               0.02 (0.01)\n",
       "$L_{CF,C}$                               0.75 (0.08)\n",
       "$L_{CF,D}$                               0.58 (0.13)\n",
       "$\\beta_{\\mathrm{distract},I}$            0.00 (0.00)\n",
       "$\\beta_{\\mathrm{distract},C}$            0.43 (0.07)\n",
       "$\\beta_{\\mathrm{distract},D}$            0.29 (0.07)"
      ]
     },
     "execution_count": 19,
     "metadata": {},
     "output_type": "execute_result"
    }
   ],
   "source": [
    "table, raw = reports.create_model_table(fit_dir, models, model_names, model_comp=None)\n",
    "table.to_latex(fig_dir / 'parameters_cdcatfr2.tex', escape=False)\n",
    "table"
   ]
  }
 ],
 "metadata": {
  "kernelspec": {
   "display_name": "dcmr",
   "language": "python",
   "name": "dcmr"
  },
  "language_info": {
   "codemirror_mode": {
    "name": "ipython",
    "version": 3
   },
   "file_extension": ".py",
   "mimetype": "text/x-python",
   "name": "python",
   "nbconvert_exporter": "python",
   "pygments_lexer": "ipython3",
   "version": "3.12.10"
  }
 },
 "nbformat": 4,
 "nbformat_minor": 5
}
