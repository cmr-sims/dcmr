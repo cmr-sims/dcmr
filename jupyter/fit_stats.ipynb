{
 "cells": [
  {
   "cell_type": "code",
   "execution_count": 9,
   "metadata": {},
   "outputs": [
    {
     "data": {
      "text/plain": [
       "cmr_fcf-w2v              -28405.364027\n",
       "cmr_fcf-cat              -28349.880513\n",
       "cmr_fcf-cat-w2v          -27965.434169\n",
       "cmr_fcf-loc              -27376.239449\n",
       "cmr_fcf-use              -27345.647953\n",
       "cmr_fcf-cat-use          -27117.560358\n",
       "cmr_fcf-loc-w2v          -26765.533593\n",
       "cmr_fcf-loc-use          -26662.062511\n",
       "cmr_fcf-loc-cat_ff-use   -26276.696266\n",
       "cmr_fcf-loc-cat          -26275.243604\n",
       "cmr_fcf-loc-cat_ff-w2v   -26275.241639\n",
       "cmr_fcf-loc-cat-w2v      -26198.346772\n",
       "cmr_fcf-loc-cat-use      -26148.132471\n",
       "dtype: float64"
      ]
     },
     "execution_count": 9,
     "metadata": {},
     "output_type": "execute_result"
    }
   ],
   "source": [
    "import os\n",
    "import glob\n",
    "import pandas as pd\n",
    "study_dir = '/Users/morton/Dropbox/work/cmr_cfr'\n",
    "fit_dir = os.path.join(study_dir, 'cfr', 'fits')\n",
    "fits = glob.glob(os.path.join(fit_dir, 'cmr_*'))\n",
    "df_list = []\n",
    "names = []\n",
    "for fit in fits:\n",
    "    fit_file = os.path.join(fit, 'fit.csv')\n",
    "    df_fit = pd.read_csv(fit_file)\n",
    "    df_list.append(df_fit['logl'])\n",
    "    names.append(os.path.basename(fit))\n",
    "df = pd.concat(df_list, axis=1, keys=names)\n",
    "df.sort_index(axis=1).sum().sort_values()"
   ]
  }
 ],
 "metadata": {
  "kernelspec": {
   "display_name": "cfr",
   "language": "python",
   "name": "cfr"
  },
  "language_info": {
   "codemirror_mode": {
    "name": "ipython",
    "version": 3
   },
   "file_extension": ".py",
   "mimetype": "text/x-python",
   "name": "python",
   "nbconvert_exporter": "python",
   "pygments_lexer": "ipython3",
   "version": "3.8.3"
  }
 },
 "nbformat": 4,
 "nbformat_minor": 4
}
