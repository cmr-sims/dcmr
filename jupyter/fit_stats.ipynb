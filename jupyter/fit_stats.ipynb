{
 "cells": [
  {
   "cell_type": "code",
   "execution_count": 1,
   "metadata": {},
   "outputs": [
    {
     "data": {
      "text/plain": [
       "cmr_fcf-use                  -29206.454490\n",
       "cmr_fcf-cat                  -28324.614953\n",
       "cmr_fcf-cat-use              -28092.683470\n",
       "cmr_fcf-loc                  -27394.989249\n",
       "cmr_fcf-loc-use              -26663.262492\n",
       "cmr_fcf-loc-cat              -26275.521195\n",
       "cmr_fcf-loc-cat_ff-use       -26275.350126\n",
       "cmr_fcf-loc-cat-use_ff-use   -26149.666616\n",
       "cmr_fcf-loc-cat-use          -26149.652526\n",
       "dtype: float64"
      ]
     },
     "execution_count": 1,
     "metadata": {},
     "output_type": "execute_result"
    }
   ],
   "source": [
    "import os\n",
    "import glob\n",
    "import pandas as pd\n",
    "study_dir = '/Users/morton/Dropbox/work/cmr_cfr'\n",
    "fit_dir = os.path.join(study_dir, 'cfr', 'fits', 'v2')\n",
    "fits = glob.glob(os.path.join(fit_dir, 'cmr_*'))\n",
    "df_list = []\n",
    "names = []\n",
    "for fit in fits:\n",
    "    fit_file = os.path.join(fit, 'fit.csv')\n",
    "    df_fit = pd.read_csv(fit_file)\n",
    "    df_list.append(df_fit['logl'])\n",
    "    names.append(os.path.basename(fit))\n",
    "df = pd.concat(df_list, axis=1, keys=names)\n",
    "df.sort_index(axis=1).sum().sort_values()"
   ]
  },
  {
   "cell_type": "code",
   "execution_count": 3,
   "metadata": {},
   "outputs": [
    {
     "data": {
      "text/plain": [
       "cmr_fcf-use                  -29455.676076\n",
       "cmr_fcf-cat                  -28324.622510\n",
       "cmr_fcf-cat-use              -28199.304091\n",
       "cmr_fcf-loc                  -27395.002983\n",
       "cmr_fcf-loc-use              -26663.291611\n",
       "cmr_fcf-loc-cat              -26275.368792\n",
       "cmr_fcf-loc-cat-use          -26149.719174\n",
       "cmr_fcf-loc-cat-use_ff-use   -25981.282112\n",
       "cmr_fcf-loc-cat_ff-use       -25979.989042\n",
       "dtype: float64"
      ]
     },
     "execution_count": 3,
     "metadata": {},
     "output_type": "execute_result"
    }
   ],
   "source": [
    "fit_dir = os.path.join(study_dir, 'cfr', 'fits', 'v3')\n",
    "fits = glob.glob(os.path.join(fit_dir, 'cmr_*'))\n",
    "df_list = []\n",
    "names = []\n",
    "for fit in fits:\n",
    "    fit_file = os.path.join(fit, 'fit.csv')\n",
    "    df_fit = pd.read_csv(fit_file)\n",
    "    df_list.append(df_fit['logl'])\n",
    "    names.append(os.path.basename(fit))\n",
    "df = pd.concat(df_list, axis=1, keys=names)\n",
    "df.sort_index(axis=1).sum().sort_values()"
   ]
  }
 ],
 "metadata": {
  "kernelspec": {
   "display_name": "cfr",
   "language": "python",
   "name": "cfr"
  },
  "language_info": {
   "codemirror_mode": {
    "name": "ipython",
    "version": 3
   },
   "file_extension": ".py",
   "mimetype": "text/x-python",
   "name": "python",
   "nbconvert_exporter": "python",
   "pygments_lexer": "ipython3",
   "version": "3.8.3"
  }
 },
 "nbformat": 4,
 "nbformat_minor": 4
}
