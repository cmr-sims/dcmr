{
 "cells": [
  {
   "cell_type": "code",
   "execution_count": 1,
   "id": "09db5f15-1df3-4239-8315-bb2c09a5c395",
   "metadata": {},
   "outputs": [],
   "source": [
    "import os\n",
    "from pathlib import Path\n",
    "import pingouin as pg\n",
    "import seaborn as sns\n",
    "\n",
    "from dcmr import task\n",
    "from dcmr import decode\n",
    "from dcmr import figures\n",
    "from dcmr import framework\n",
    "\n",
    "cfr_dir = Path(os.environ['CFR_RESULTS'])\n",
    "cfr_fit_dir = Path(os.environ['CFR_FITS']).parent\n",
    "cdcfr_fit_dir = Path(os.environ['CDCFR_FITS'])"
   ]
  },
  {
   "cell_type": "code",
   "execution_count": 2,
   "id": "b7ff8bd4-84a2-4e20-affb-1348d573fdfd",
   "metadata": {},
   "outputs": [
    {
     "data": {
      "text/plain": [
       "model\n",
       "cmrs_fcf-use                                                                          -34.585169\n",
       "cmrs_fcf-cat                                                                          -33.317897\n",
       "cmrs_fcf-cat-use                                                                      -33.149982\n",
       "cmrs_fcf-loc                                                                          -32.431015\n",
       "cmrs_fcf-loc-use                                                                      -31.356594\n",
       "cmrs_fcf-loc-cat                                                                      -30.887776\n",
       "cmrs_fcf-loc-cat-use                                                                  -30.759891\n",
       "cmrs_fcf-loc-cat-use_sl-B_enc-B_rec_fix-B_enc_use1                                    -30.511152\n",
       "cmrs_fcf-loc-cat-use_sl-B_enc-B_rec_fix-B_enc_use1-B_rec_cat1                         -30.496489\n",
       "cmrs_fcf-loc-cat-use_sl-B_enc-B_rec_fix-B_enc_cat1                                    -30.494838\n",
       "cmrs_fcf-loc-cat-use_sl-B_enc-B_rec_fix-B_rec_cat1                                    -30.491842\n",
       "cmrs_fcf-loc-cat-use_sl-B_enc-B_rec                                                   -30.491797\n",
       "cmrs_fcf-loc-cat-use_sl-B_enc-B_rec_fix-B_enc_cat1-B_rec_cat1                         -30.484121\n",
       "cmrs_fcf-loc-cat-use_sl-B_enc-B_rec_fix-B_enc_cat1-B_enc_use1                         -30.483660\n",
       "cmrs_fcf-loc-cat-use_sl-B_enc-B_rec_fix-B_enc_use1-B_rec_use1                         -30.472176\n",
       "cmrs_fcf-loc-cat-use_sl-B_enc-B_rec_fix-B_enc_cat1-B_enc_use1-B_rec_cat1              -30.465228\n",
       "cmrs_fcf-loc-cat-use_sl-B_enc-B_rec_fix-B_enc_cat1-B_enc_use1-B_rec_use1              -30.462723\n",
       "cmrs_fcf-loc-cat-use_sl-B_enc-B_rec_fix-B_enc_use1-B_rec_cat1-B_rec_use1              -30.456420\n",
       "cmrs_fcf-loc-cat-use_sl-B_enc-B_rec_fix-B_rec_use1                                    -30.453784\n",
       "cmrs_fcf-loc-cat-use_sl-B_enc-B_rec_fix-B_enc_cat1-B_rec_use1                         -30.447237\n",
       "cmrs_fcf-loc-cat-use_sl-B_enc-B_rec_fix-B_enc_cat1-B_enc_use1-B_rec_cat1-B_rec_use1   -30.438665\n",
       "cmrs_fcf-loc-cat-use_sl-B_enc-B_rec_fix-B_enc_cat1-B_rec_cat1-B_rec_use1              -30.435872\n",
       "cmrs_fcf-loc_ff-cat-use                                                               -30.434891\n",
       "cmrs_fcf-loc-cat-use_sl-B_enc-B_rec_fix-B_rec_cat1-B_rec_use1                         -30.430238\n",
       "Name: logl_test_list, dtype: float64"
      ]
     },
     "execution_count": 2,
     "metadata": {},
     "output_type": "execute_result"
    }
   ],
   "source": [
    "stat = framework.comp_version_variants(cfr_fit_dir / 'v5')\n",
    "stat"
   ]
  },
  {
   "cell_type": "code",
   "execution_count": 3,
   "id": "134c8106-72a6-47d5-b2eb-361cdc810bfe",
   "metadata": {},
   "outputs": [
    {
     "data": {
      "text/plain": [
       "model\n",
       "cmrst_fea-cat_sem-context_cue-integrative           -33.211604\n",
       "cmrst_fea-cat_sem-context_cue-focused               -33.205688\n",
       "cmrst_fea-loc_sem-context                           -32.211990\n",
       "cmrst_fea-use_sem-context_cue-integrative           -32.108567\n",
       "cmrst_fea-use_sem-context_cue-focused               -32.098887\n",
       "cmrst_fea-cat-use_sem-context_cue-integrative       -31.536401\n",
       "cmrst_fea-cat-use_sem-context_cue-focused           -31.405336\n",
       "cmrst_fea-loc-use_sem-context_cue-integrative       -30.806924\n",
       "cmrst_fea-loc-use_sem-context_cue-focused           -30.768706\n",
       "cmrst_fea-loc-cat_sem-context_cue-integrative       -30.382392\n",
       "cmrst_fea-loc-cat_sem-context_cue-focused           -30.353468\n",
       "cmrst_fea-loc-cat-use_sem-context_cue-integrative   -30.256417\n",
       "cmrst_fea-loc-cat-use_sem-context_cue-focused       -30.208275\n",
       "Name: logl_test_list, dtype: float64"
      ]
     },
     "execution_count": 3,
     "metadata": {},
     "output_type": "execute_result"
    }
   ],
   "source": [
    "stat = framework.comp_version_variants(cfr_fit_dir / 'v7' / 'simple')\n",
    "stat"
   ]
  },
  {
   "cell_type": "code",
   "execution_count": 4,
   "id": "48015c64-87bc-4075-a9b0-30a9ab9098cf",
   "metadata": {},
   "outputs": [
    {
     "data": {
      "text/plain": [
       "model\n",
       "cmrst_fea-cat_sem-context           -33.293027\n",
       "cmrst_fea-loc_sem-context           -32.215023\n",
       "cmrst_fea-use_sem-context           -32.112514\n",
       "cmrst_fea-cat-use_sem-context       -31.745599\n",
       "cmrst_fea-loc-use_sem-context       -31.026398\n",
       "cmrst_fea-loc-cat_sem-context       -30.578863\n",
       "cmrst_fea-loc-cat-use_sem-context   -30.477753\n",
       "Name: logl_test_list, dtype: float64"
      ]
     },
     "execution_count": 4,
     "metadata": {},
     "output_type": "execute_result"
    }
   ],
   "source": [
    "stat = framework.comp_version_variants(cfr_fit_dir / 'v7' / 'simple_fixed_b')\n",
    "stat"
   ]
  },
  {
   "cell_type": "code",
   "execution_count": 5,
   "id": "3b562bb1-762a-4055-a92b-21f9c0ffdfe2",
   "metadata": {},
   "outputs": [
    {
     "data": {
      "text/plain": [
       "model\n",
       "cmrsit_sem-item                                             -30.343445\n",
       "cmrsit_sem-item_dis-loc                                     -30.342955\n",
       "cmrsit_sem-context_cue-focused_dis-loc-cat_sub-block        -30.315695\n",
       "cmrsit_sem-context_cue-focused_dis-cat_sub-block            -30.301089\n",
       "cmrsit_sem-context_cue-focused_dis-loc-cat                  -30.300582\n",
       "cmrsit_sem-item_sub-block                                   -30.294005\n",
       "cmrsit_sem-context_cue-focused_sub-list-block               -30.288989\n",
       "cmrsit_sem-item_dis-loc_sub-block                           -30.287543\n",
       "cmrsit_sem-split_cue-focused_dis-loc                        -30.282341\n",
       "cmrsit_sem-context_cue-focused_dis-loc                      -30.278469\n",
       "cmrsit_sem-context_cue-focused_sub-block                    -30.277382\n",
       "cmrsit_sem-context_cue-focused_dis-loc-cat_sub-list-block   -30.276747\n",
       "cmrsit_sem-split_cue-focused_dis-loc_sub-list               -30.276714\n",
       "cmrsit_sem-split_cue-focused_dis-cat_sub-block              -30.275217\n",
       "cmrsit_sem-context_cue-focused_dis-loc-cat_sub-list         -30.274973\n",
       "cmrsit_sem-context_cue-focused_dis-loc_sub-block            -30.273754\n",
       "cmrsit_sem-context_cue-focused_dis-cat_sub-list             -30.269261\n",
       "cmrsit_sem-context_cue-focused_dis-cat                      -30.266816\n",
       "cmrsit_sem-context_cue-focused_dis-loc_sub-list             -30.264584\n",
       "cmrsit_sem-split_cue-focused_sub-list-block                 -30.262509\n",
       "cmrsit_sem-split_cue-focused_dis-loc-cat_sub-block          -30.262217\n",
       "cmrsit_sem-split_cue-focused_dis-loc_sub-block              -30.260604\n",
       "cmrsit_sem-split_cue-focused_dis-loc-cat_sub-list-block     -30.259941\n",
       "cmrsit_sem-split_cue-focused_dis-cat                        -30.259228\n",
       "cmrsit_sem-split_cue-focused_dis-loc-cat                    -30.254416\n",
       "cmrsit_sem-context_cue-focused                              -30.253477\n",
       "cmrsit_sem-split_cue-focused_dis-loc_sub-list-block         -30.251944\n",
       "cmrsit_sem-context_cue-focused_dis-cat_sub-list-block       -30.251882\n",
       "cmrsit_sem-context_cue-focused_dis-loc_sub-list-block       -30.251780\n",
       "cmrsit_sem-split_cue-focused                                -30.250803\n",
       "cmrsit_sem-item_sub-list-block                              -30.246378\n",
       "cmrsit_sem-item_dis-loc_sub-list-block                      -30.241548\n",
       "cmrsit_sem-split_cue-focused_sub-list                       -30.240992\n",
       "cmrsit_sem-context_cue-focused_sub-list                     -30.239589\n",
       "cmrsit_sem-split_cue-focused_sub-block                      -30.237116\n",
       "cmrsit_sem-item_dis-loc_sub-list                            -30.231454\n",
       "cmrsit_sem-split_cue-focused_dis-cat_sub-list-block         -30.227940\n",
       "cmrsit_sem-split_cue-focused_dis-loc-cat_sub-list           -30.225875\n",
       "cmrsit_sem-split_cue-focused_dis-cat_sub-list               -30.216894\n",
       "cmrsit_sem-item_sub-list                                    -30.199702\n",
       "Name: logl_test_list, dtype: float64"
      ]
     },
     "execution_count": 5,
     "metadata": {},
     "output_type": "execute_result"
    }
   ],
   "source": [
    "stat = framework.comp_version_variants(cfr_fit_dir / 'v7' / 'switchboard4')\n",
    "stat"
   ]
  },
  {
   "cell_type": "code",
   "execution_count": 6,
   "id": "fb2fcdc7-7ce0-4865-a83a-e47c15d4d0df",
   "metadata": {},
   "outputs": [
    {
     "data": {
      "text/plain": [
       "model\n",
       "cmrsit_sem-context_cue-focused_dis-loc-cat_sub-block        -23.260013\n",
       "cmrsit_sem-context_cue-focused_dis-loc_sub-list-block       -23.248813\n",
       "cmrsit_sem-context_cue-focused_dis-cat_sub-block            -23.240637\n",
       "cmrsit_sem-context_cue-focused_dis-loc_sub-block            -23.238011\n",
       "cmrsit_sem-context_cue-focused_dis-cat_sub-list-block       -23.218748\n",
       "cmrsit_sem-item_sub-block                                   -23.218108\n",
       "cmrsit_sem-context_cue-focused_sub-list-block               -23.212266\n",
       "cmrsit_sem-context_cue-focused_dis-loc-cat_sub-list-block   -23.211416\n",
       "cmrsit_sem-split_cue-focused_dis-loc-cat_sub-block          -23.206620\n",
       "cmrsit_sem-context_cue-focused_sub-block                    -23.203566\n",
       "cmrsit_sem-context_cue-focused_dis-loc-cat_sub-list         -23.192634\n",
       "cmrsit_sem-context_cue-focused_dis-loc-cat                  -23.190360\n",
       "cmrsit_sem-split_cue-focused_sub-list-block                 -23.187292\n",
       "cmrsit_sem-context_cue-focused_dis-loc_sub-list             -23.186491\n",
       "cmrsit_sem-item_dis-loc_sub-block                           -23.185884\n",
       "cmrsit_sem-context_cue-focused                              -23.184625\n",
       "cmrsit_sem-split_cue-focused_sub-block                      -23.183781\n",
       "cmrsit_sem-split_cue-focused_dis-loc_sub-block              -23.176501\n",
       "cmrsit_sem-context_cue-focused_dis-loc                      -23.175966\n",
       "cmrsit_sem-split_cue-focused_dis-loc-cat_sub-list-block     -23.172898\n",
       "cmrsit_sem-context_cue-focused_sub-list                     -23.167740\n",
       "cmrsit_sem-context_cue-focused_dis-cat_sub-list             -23.160397\n",
       "cmrsit_sem-split_cue-focused_dis-loc                        -23.157816\n",
       "cmrsit_sem-context_cue-focused_dis-cat                      -23.156534\n",
       "cmrsit_sem-split_cue-focused_dis-cat_sub-list-block         -23.151027\n",
       "cmrsit_sem-split_cue-focused_dis-loc_sub-list-block         -23.146603\n",
       "cmrsit_sem-split_cue-focused_sub-list                       -23.142518\n",
       "cmrsit_sem-split_cue-focused                                -23.139290\n",
       "cmrsit_sem-item_dis-loc                                     -23.139266\n",
       "cmrsit_sem-item                                             -23.137926\n",
       "cmrsit_sem-split_cue-focused_dis-loc-cat_sub-list           -23.130232\n",
       "cmrsit_sem-split_cue-focused_dis-cat_sub-block              -23.128973\n",
       "cmrsit_sem-item_dis-loc_sub-list-block                      -23.117827\n",
       "cmrsit_sem-split_cue-focused_dis-cat                        -23.114047\n",
       "cmrsit_sem-split_cue-focused_dis-loc-cat                    -23.113860\n",
       "cmrsit_sem-item_sub-list-block                              -23.112860\n",
       "cmrsit_sem-item_sub-list                                    -23.102730\n",
       "cmrsit_sem-item_dis-loc_sub-list                            -23.095161\n",
       "cmrsit_sem-split_cue-focused_dis-loc_sub-list               -23.090997\n",
       "cmrsit_sem-split_cue-focused_dis-cat_sub-list               -23.083120\n",
       "Name: logl_test_list, dtype: float64"
      ]
     },
     "execution_count": 6,
     "metadata": {},
     "output_type": "execute_result"
    }
   ],
   "source": [
    "stat = framework.comp_version_variants(cdcfr_fit_dir / 'switchboard')\n",
    "stat"
   ]
  },
  {
   "cell_type": "code",
   "execution_count": 7,
   "id": "a9efc3f6-4bb3-4d94-992a-003b2e744026",
   "metadata": {},
   "outputs": [
    {
     "name": "stdout",
     "output_type": "stream",
     "text": [
      "Python implementation: CPython\n",
      "Python version       : 3.12.8\n",
      "IPython version      : 9.2.0\n",
      "\n",
      "sys     : 3.12.8 (main, Jan 22 2025, 16:41:29) [Clang 16.0.0 (clang-1600.0.26.3)]\n",
      "seaborn : 0.13.2\n",
      "pingouin: 0.5.5\n",
      "platform: 1.0.8\n",
      "dcmr    : 1.0.0a0\n",
      "\n"
     ]
    }
   ],
   "source": [
    "%load_ext watermark\n",
    "%watermark -v -iv"
   ]
  }
 ],
 "metadata": {
  "kernelspec": {
   "display_name": "dcmr",
   "language": "python",
   "name": "dcmr"
  },
  "language_info": {
   "codemirror_mode": {
    "name": "ipython",
    "version": 3
   },
   "file_extension": ".py",
   "mimetype": "text/x-python",
   "name": "python",
   "nbconvert_exporter": "python",
   "pygments_lexer": "ipython3",
   "version": "3.12.8"
  }
 },
 "nbformat": 4,
 "nbformat_minor": 5
}
